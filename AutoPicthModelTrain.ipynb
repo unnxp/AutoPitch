{
  "cells": [
    {
      "cell_type": "markdown",
      "metadata": {
        "id": "view-in-github",
        "colab_type": "text"
      },
      "source": [
        "<a href=\"https://colab.research.google.com/github/unnxp/AutoPitch/blob/main/AutoPicthModelTrain.ipynb\" target=\"_parent\"><img src=\"https://colab.research.google.com/assets/colab-badge.svg\" alt=\"Open In Colab\"/></a>"
      ]
    },
    {
      "cell_type": "code",
      "source": [
        "from google.colab import drive\n",
        "drive.mount('/content/drive')"
      ],
      "metadata": {
        "id": "hxcP9zR91TIY",
        "colab": {
          "base_uri": "https://localhost:8080/"
        },
        "outputId": "8948b14a-2194-4e62-d98d-bd7364d88019"
      },
      "execution_count": null,
      "outputs": [
        {
          "output_type": "stream",
          "name": "stdout",
          "text": [
            "Drive already mounted at /content/drive; to attempt to forcibly remount, call drive.mount(\"/content/drive\", force_remount=True).\n"
          ]
        }
      ]
    },
    {
      "cell_type": "code",
      "source": [
        "!pip install librosa\n",
        "!pip install tensorflow\n",
        "!pip install numpy\n",
        "!pip install matplotlib\n",
        "!pip install json"
      ],
      "metadata": {
        "colab": {
          "base_uri": "https://localhost:8080/"
        },
        "id": "GKnOtHXtOZxP",
        "outputId": "bc3cd19f-0664-4732-e0e7-fba62cd7a5fe"
      },
      "execution_count": null,
      "outputs": [
        {
          "output_type": "stream",
          "name": "stdout",
          "text": [
            "Requirement already satisfied: librosa in /usr/local/lib/python3.11/dist-packages (0.10.2.post1)\n",
            "Requirement already satisfied: audioread>=2.1.9 in /usr/local/lib/python3.11/dist-packages (from librosa) (3.0.1)\n",
            "Requirement already satisfied: numpy!=1.22.0,!=1.22.1,!=1.22.2,>=1.20.3 in /usr/local/lib/python3.11/dist-packages (from librosa) (1.26.4)\n",
            "Requirement already satisfied: scipy>=1.2.0 in /usr/local/lib/python3.11/dist-packages (from librosa) (1.13.1)\n",
            "Requirement already satisfied: scikit-learn>=0.20.0 in /usr/local/lib/python3.11/dist-packages (from librosa) (1.6.1)\n",
            "Requirement already satisfied: joblib>=0.14 in /usr/local/lib/python3.11/dist-packages (from librosa) (1.4.2)\n",
            "Requirement already satisfied: decorator>=4.3.0 in /usr/local/lib/python3.11/dist-packages (from librosa) (4.4.2)\n",
            "Requirement already satisfied: numba>=0.51.0 in /usr/local/lib/python3.11/dist-packages (from librosa) (0.60.0)\n",
            "Requirement already satisfied: soundfile>=0.12.1 in /usr/local/lib/python3.11/dist-packages (from librosa) (0.13.1)\n",
            "Requirement already satisfied: pooch>=1.1 in /usr/local/lib/python3.11/dist-packages (from librosa) (1.8.2)\n",
            "Requirement already satisfied: soxr>=0.3.2 in /usr/local/lib/python3.11/dist-packages (from librosa) (0.5.0.post1)\n",
            "Requirement already satisfied: typing-extensions>=4.1.1 in /usr/local/lib/python3.11/dist-packages (from librosa) (4.12.2)\n",
            "Requirement already satisfied: lazy-loader>=0.1 in /usr/local/lib/python3.11/dist-packages (from librosa) (0.4)\n",
            "Requirement already satisfied: msgpack>=1.0 in /usr/local/lib/python3.11/dist-packages (from librosa) (1.1.0)\n",
            "Requirement already satisfied: packaging in /usr/local/lib/python3.11/dist-packages (from lazy-loader>=0.1->librosa) (24.2)\n",
            "Requirement already satisfied: llvmlite<0.44,>=0.43.0dev0 in /usr/local/lib/python3.11/dist-packages (from numba>=0.51.0->librosa) (0.43.0)\n",
            "Requirement already satisfied: platformdirs>=2.5.0 in /usr/local/lib/python3.11/dist-packages (from pooch>=1.1->librosa) (4.3.6)\n",
            "Requirement already satisfied: requests>=2.19.0 in /usr/local/lib/python3.11/dist-packages (from pooch>=1.1->librosa) (2.32.3)\n",
            "Requirement already satisfied: threadpoolctl>=3.1.0 in /usr/local/lib/python3.11/dist-packages (from scikit-learn>=0.20.0->librosa) (3.5.0)\n",
            "Requirement already satisfied: cffi>=1.0 in /usr/local/lib/python3.11/dist-packages (from soundfile>=0.12.1->librosa) (1.17.1)\n",
            "Requirement already satisfied: pycparser in /usr/local/lib/python3.11/dist-packages (from cffi>=1.0->soundfile>=0.12.1->librosa) (2.22)\n",
            "Requirement already satisfied: charset-normalizer<4,>=2 in /usr/local/lib/python3.11/dist-packages (from requests>=2.19.0->pooch>=1.1->librosa) (3.4.1)\n",
            "Requirement already satisfied: idna<4,>=2.5 in /usr/local/lib/python3.11/dist-packages (from requests>=2.19.0->pooch>=1.1->librosa) (3.10)\n",
            "Requirement already satisfied: urllib3<3,>=1.21.1 in /usr/local/lib/python3.11/dist-packages (from requests>=2.19.0->pooch>=1.1->librosa) (2.3.0)\n",
            "Requirement already satisfied: certifi>=2017.4.17 in /usr/local/lib/python3.11/dist-packages (from requests>=2.19.0->pooch>=1.1->librosa) (2025.1.31)\n",
            "Requirement already satisfied: tensorflow in /usr/local/lib/python3.11/dist-packages (2.18.0)\n",
            "Requirement already satisfied: absl-py>=1.0.0 in /usr/local/lib/python3.11/dist-packages (from tensorflow) (1.4.0)\n",
            "Requirement already satisfied: astunparse>=1.6.0 in /usr/local/lib/python3.11/dist-packages (from tensorflow) (1.6.3)\n",
            "Requirement already satisfied: flatbuffers>=24.3.25 in /usr/local/lib/python3.11/dist-packages (from tensorflow) (25.2.10)\n",
            "Requirement already satisfied: gast!=0.5.0,!=0.5.1,!=0.5.2,>=0.2.1 in /usr/local/lib/python3.11/dist-packages (from tensorflow) (0.6.0)\n",
            "Requirement already satisfied: google-pasta>=0.1.1 in /usr/local/lib/python3.11/dist-packages (from tensorflow) (0.2.0)\n",
            "Requirement already satisfied: libclang>=13.0.0 in /usr/local/lib/python3.11/dist-packages (from tensorflow) (18.1.1)\n",
            "Requirement already satisfied: opt-einsum>=2.3.2 in /usr/local/lib/python3.11/dist-packages (from tensorflow) (3.4.0)\n",
            "Requirement already satisfied: packaging in /usr/local/lib/python3.11/dist-packages (from tensorflow) (24.2)\n",
            "Requirement already satisfied: protobuf!=4.21.0,!=4.21.1,!=4.21.2,!=4.21.3,!=4.21.4,!=4.21.5,<6.0.0dev,>=3.20.3 in /usr/local/lib/python3.11/dist-packages (from tensorflow) (4.25.6)\n",
            "Requirement already satisfied: requests<3,>=2.21.0 in /usr/local/lib/python3.11/dist-packages (from tensorflow) (2.32.3)\n",
            "Requirement already satisfied: setuptools in /usr/local/lib/python3.11/dist-packages (from tensorflow) (75.1.0)\n",
            "Requirement already satisfied: six>=1.12.0 in /usr/local/lib/python3.11/dist-packages (from tensorflow) (1.17.0)\n",
            "Requirement already satisfied: termcolor>=1.1.0 in /usr/local/lib/python3.11/dist-packages (from tensorflow) (2.5.0)\n",
            "Requirement already satisfied: typing-extensions>=3.6.6 in /usr/local/lib/python3.11/dist-packages (from tensorflow) (4.12.2)\n",
            "Requirement already satisfied: wrapt>=1.11.0 in /usr/local/lib/python3.11/dist-packages (from tensorflow) (1.17.2)\n",
            "Requirement already satisfied: grpcio<2.0,>=1.24.3 in /usr/local/lib/python3.11/dist-packages (from tensorflow) (1.70.0)\n",
            "Requirement already satisfied: tensorboard<2.19,>=2.18 in /usr/local/lib/python3.11/dist-packages (from tensorflow) (2.18.0)\n",
            "Requirement already satisfied: keras>=3.5.0 in /usr/local/lib/python3.11/dist-packages (from tensorflow) (3.8.0)\n",
            "Requirement already satisfied: numpy<2.1.0,>=1.26.0 in /usr/local/lib/python3.11/dist-packages (from tensorflow) (1.26.4)\n",
            "Requirement already satisfied: h5py>=3.11.0 in /usr/local/lib/python3.11/dist-packages (from tensorflow) (3.12.1)\n",
            "Requirement already satisfied: ml-dtypes<0.5.0,>=0.4.0 in /usr/local/lib/python3.11/dist-packages (from tensorflow) (0.4.1)\n",
            "Requirement already satisfied: tensorflow-io-gcs-filesystem>=0.23.1 in /usr/local/lib/python3.11/dist-packages (from tensorflow) (0.37.1)\n",
            "Requirement already satisfied: wheel<1.0,>=0.23.0 in /usr/local/lib/python3.11/dist-packages (from astunparse>=1.6.0->tensorflow) (0.45.1)\n",
            "Requirement already satisfied: rich in /usr/local/lib/python3.11/dist-packages (from keras>=3.5.0->tensorflow) (13.9.4)\n",
            "Requirement already satisfied: namex in /usr/local/lib/python3.11/dist-packages (from keras>=3.5.0->tensorflow) (0.0.8)\n",
            "Requirement already satisfied: optree in /usr/local/lib/python3.11/dist-packages (from keras>=3.5.0->tensorflow) (0.14.1)\n",
            "Requirement already satisfied: charset-normalizer<4,>=2 in /usr/local/lib/python3.11/dist-packages (from requests<3,>=2.21.0->tensorflow) (3.4.1)\n",
            "Requirement already satisfied: idna<4,>=2.5 in /usr/local/lib/python3.11/dist-packages (from requests<3,>=2.21.0->tensorflow) (3.10)\n",
            "Requirement already satisfied: urllib3<3,>=1.21.1 in /usr/local/lib/python3.11/dist-packages (from requests<3,>=2.21.0->tensorflow) (2.3.0)\n",
            "Requirement already satisfied: certifi>=2017.4.17 in /usr/local/lib/python3.11/dist-packages (from requests<3,>=2.21.0->tensorflow) (2025.1.31)\n",
            "Requirement already satisfied: markdown>=2.6.8 in /usr/local/lib/python3.11/dist-packages (from tensorboard<2.19,>=2.18->tensorflow) (3.7)\n",
            "Requirement already satisfied: tensorboard-data-server<0.8.0,>=0.7.0 in /usr/local/lib/python3.11/dist-packages (from tensorboard<2.19,>=2.18->tensorflow) (0.7.2)\n",
            "Requirement already satisfied: werkzeug>=1.0.1 in /usr/local/lib/python3.11/dist-packages (from tensorboard<2.19,>=2.18->tensorflow) (3.1.3)\n",
            "Requirement already satisfied: MarkupSafe>=2.1.1 in /usr/local/lib/python3.11/dist-packages (from werkzeug>=1.0.1->tensorboard<2.19,>=2.18->tensorflow) (3.0.2)\n",
            "Requirement already satisfied: markdown-it-py>=2.2.0 in /usr/local/lib/python3.11/dist-packages (from rich->keras>=3.5.0->tensorflow) (3.0.0)\n",
            "Requirement already satisfied: pygments<3.0.0,>=2.13.0 in /usr/local/lib/python3.11/dist-packages (from rich->keras>=3.5.0->tensorflow) (2.18.0)\n",
            "Requirement already satisfied: mdurl~=0.1 in /usr/local/lib/python3.11/dist-packages (from markdown-it-py>=2.2.0->rich->keras>=3.5.0->tensorflow) (0.1.2)\n",
            "Requirement already satisfied: numpy in /usr/local/lib/python3.11/dist-packages (1.26.4)\n",
            "Requirement already satisfied: matplotlib in /usr/local/lib/python3.11/dist-packages (3.10.0)\n",
            "Requirement already satisfied: contourpy>=1.0.1 in /usr/local/lib/python3.11/dist-packages (from matplotlib) (1.3.1)\n",
            "Requirement already satisfied: cycler>=0.10 in /usr/local/lib/python3.11/dist-packages (from matplotlib) (0.12.1)\n",
            "Requirement already satisfied: fonttools>=4.22.0 in /usr/local/lib/python3.11/dist-packages (from matplotlib) (4.56.0)\n",
            "Requirement already satisfied: kiwisolver>=1.3.1 in /usr/local/lib/python3.11/dist-packages (from matplotlib) (1.4.8)\n",
            "Requirement already satisfied: numpy>=1.23 in /usr/local/lib/python3.11/dist-packages (from matplotlib) (1.26.4)\n",
            "Requirement already satisfied: packaging>=20.0 in /usr/local/lib/python3.11/dist-packages (from matplotlib) (24.2)\n",
            "Requirement already satisfied: pillow>=8 in /usr/local/lib/python3.11/dist-packages (from matplotlib) (11.1.0)\n",
            "Requirement already satisfied: pyparsing>=2.3.1 in /usr/local/lib/python3.11/dist-packages (from matplotlib) (3.2.1)\n",
            "Requirement already satisfied: python-dateutil>=2.7 in /usr/local/lib/python3.11/dist-packages (from matplotlib) (2.8.2)\n",
            "Requirement already satisfied: six>=1.5 in /usr/local/lib/python3.11/dist-packages (from python-dateutil>=2.7->matplotlib) (1.17.0)\n",
            "\u001b[31mERROR: Could not find a version that satisfies the requirement json (from versions: none)\u001b[0m\u001b[31m\n",
            "\u001b[0m\u001b[31mERROR: No matching distribution found for json\u001b[0m\u001b[31m\n",
            "\u001b[0m"
          ]
        }
      ]
    },
    {
      "cell_type": "code",
      "execution_count": null,
      "metadata": {
        "id": "byY1-cHSpVnY"
      },
      "outputs": [],
      "source": [
        "import librosa\n",
        "import librosa.display\n",
        "import numpy as np\n",
        "import json\n",
        "import os\n",
        "import tensorflow as tf\n",
        "import matplotlib.pyplot as plt\n",
        "\n",
        "# โหลด Metadata\n",
        "metadata_path = \"/content/drive/My Drive/dataset/nsynth-train/examples.json\"\n",
        "audio_dir = \"/content/drive/My Drive/dataset/nsynth-train/audio\"\n",
        "\n",
        "with open(metadata_path, \"r\") as f:\n",
        "    metadata = json.load(f)\n",
        "\n",
        "# ฟังก์ชันโหลดเสียงและแปลงเป็น Mel-Spectrogram\n",
        "def load_audio(file_path):\n",
        "    y, sr = librosa.load(file_path, sr=16000)\n",
        "    mel_spec = librosa.feature.melspectrogram(y=y, sr=sr, n_mels=128)\n",
        "    mel_spec_db = librosa.power_to_db(mel_spec, ref=np.max)\n",
        "\n",
        "    # Normalization\n",
        "    mel_spec_db = (mel_spec_db - np.min(mel_spec_db)) / (np.max(mel_spec_db) - np.min(mel_spec_db))\n",
        "    mel_spec_db = tf.image.resize(mel_spec_db[..., np.newaxis], (128, 128))  # ปรับขนาดเป็น (128,128,1)\n",
        "\n",
        "    return mel_spec_db, sr\n",
        "\n"
      ]
    },
    {
      "cell_type": "code",
      "execution_count": null,
      "metadata": {
        "id": "1rCkUawRpVnZ"
      },
      "outputs": [],
      "source": [
        "file_path = \"C:/Users/M S I/Desktop/Autopitch/dataset/nsynth-train/audio/vocal_synthetic_015-095-075.wav\"\n",
        "mel_spec, sr = load_audio(file_path)\n",
        "\n",
        "# แสดง Mel-Spectrogram\n",
        "plt.figure(figsize=(10, 4))\n",
        "librosa.display.specshow(mel_spec, sr=sr, x_axis=\"time\", y_axis=\"mel\")\n",
        "plt.colorbar(label=\"dB\")\n",
        "plt.title(\"Mel Spectrogram\")\n",
        "plt.show()"
      ]
    },
    {
      "cell_type": "code",
      "execution_count": null,
      "metadata": {
        "id": "us6De6WOpVnZ"
      },
      "outputs": [],
      "source": [
        "# 🔹 สร้าง Data Generator (เลือก 20000 ข้อมูลแรก)\n",
        "min_pitch, max_pitch = 0, 127  # MIDI Range\n",
        "max_samples = 20000  # 🔥 จำกัดข้อมูลที่ 20000 ตัวอย่าง\n",
        "def data_generator():\n",
        "    count = 0\n",
        "    for i, (key, info) in enumerate(metadata.items()):\n",
        "        if count >= max_samples:\n",
        "            break  # หยุดเมื่อครบ 20000 ตัวอย่าง\n",
        "\n",
        "        file_name = key + \".wav\"  # 🔹 ใช้ key เป็นชื่อไฟล์\n",
        "        file_path = os.path.join(audio_dir, file_name)\n",
        "\n",
        "        if not os.path.exists(file_path):\n",
        "            print(f\"❌ File not found: {file_path}\")  # แจ้งเตือนไฟล์หาย\n",
        "            continue\n",
        "\n",
        "        mel_spec, _ = load_audio(file_path)\n",
        "        pitch = info[\"pitch\"]\n",
        "\n",
        "        if not (min_pitch <= pitch <= max_pitch):\n",
        "            continue  # ข้ามโน้ตที่อยู่นอกช่วง\n",
        "\n",
        "        count += 1\n",
        "        yield mel_spec, pitch - min_pitch  # ✅ Shift pitch ให้เริ่มที่ 0\n",
        "\n",
        "    print(f\"✅ Total samples loaded: {count}\")\n",
        "\n",
        "batch_size = 64\n",
        "dataset = tf.data.Dataset.from_generator(\n",
        "    data_generator,\n",
        "    output_signature=(\n",
        "        tf.TensorSpec(shape=(128, 128, 1), dtype=tf.float32),  # ✅ เปลี่ยนเป็น (128,128,1)\n",
        "        tf.TensorSpec(shape=(), dtype=tf.int32)\n",
        "    )\n",
        ")\n",
        "\n",
        "dataset = dataset.shuffle(1000).batch(batch_size).prefetch(tf.data.AUTOTUNE)\n"
      ]
    },
    {
      "cell_type": "code",
      "execution_count": null,
      "metadata": {
        "id": "62YzA80DpVnZ"
      },
      "outputs": [],
      "source": [
        "for mel_batch, pitch_batch in dataset.batch(32).take(1):\n",
        "    print(\"Batch shape:\", mel_batch.shape, \"Pitch shape:\", pitch_batch.shape)"
      ]
    },
    {
      "cell_type": "code",
      "execution_count": null,
      "metadata": {
        "id": "PT3Ko8ExpVna",
        "outputId": "bef7893b-9745-4ab7-b29e-5d6c368120d5",
        "colab": {
          "base_uri": "https://localhost:8080/",
          "height": 433
        }
      },
      "outputs": [
        {
          "output_type": "display_data",
          "data": {
            "text/plain": [
              "\u001b[1mModel: \"sequential_5\"\u001b[0m\n"
            ],
            "text/html": [
              "<pre style=\"white-space:pre;overflow-x:auto;line-height:normal;font-family:Menlo,'DejaVu Sans Mono',consolas,'Courier New',monospace\"><span style=\"font-weight: bold\">Model: \"sequential_5\"</span>\n",
              "</pre>\n"
            ]
          },
          "metadata": {}
        },
        {
          "output_type": "display_data",
          "data": {
            "text/plain": [
              "┏━━━━━━━━━━━━━━━━━━━━━━━━━━━━━━━━━━━━━━┳━━━━━━━━━━━━━━━━━━━━━━━━━━━━━┳━━━━━━━━━━━━━━━━━┓\n",
              "┃\u001b[1m \u001b[0m\u001b[1mLayer (type)                        \u001b[0m\u001b[1m \u001b[0m┃\u001b[1m \u001b[0m\u001b[1mOutput Shape               \u001b[0m\u001b[1m \u001b[0m┃\u001b[1m \u001b[0m\u001b[1m        Param #\u001b[0m\u001b[1m \u001b[0m┃\n",
              "┡━━━━━━━━━━━━━━━━━━━━━━━━━━━━━━━━━━━━━━╇━━━━━━━━━━━━━━━━━━━━━━━━━━━━━╇━━━━━━━━━━━━━━━━━┩\n",
              "│ conv2d_15 (\u001b[38;5;33mConv2D\u001b[0m)                   │ (\u001b[38;5;45mNone\u001b[0m, \u001b[38;5;34m128\u001b[0m, \u001b[38;5;34m128\u001b[0m, \u001b[38;5;34m32\u001b[0m)        │             \u001b[38;5;34m320\u001b[0m │\n",
              "├──────────────────────────────────────┼─────────────────────────────┼─────────────────┤\n",
              "│ max_pooling2d_15 (\u001b[38;5;33mMaxPooling2D\u001b[0m)      │ (\u001b[38;5;45mNone\u001b[0m, \u001b[38;5;34m64\u001b[0m, \u001b[38;5;34m64\u001b[0m, \u001b[38;5;34m32\u001b[0m)          │               \u001b[38;5;34m0\u001b[0m │\n",
              "├──────────────────────────────────────┼─────────────────────────────┼─────────────────┤\n",
              "│ conv2d_16 (\u001b[38;5;33mConv2D\u001b[0m)                   │ (\u001b[38;5;45mNone\u001b[0m, \u001b[38;5;34m64\u001b[0m, \u001b[38;5;34m64\u001b[0m, \u001b[38;5;34m64\u001b[0m)          │          \u001b[38;5;34m18,496\u001b[0m │\n",
              "├──────────────────────────────────────┼─────────────────────────────┼─────────────────┤\n",
              "│ max_pooling2d_16 (\u001b[38;5;33mMaxPooling2D\u001b[0m)      │ (\u001b[38;5;45mNone\u001b[0m, \u001b[38;5;34m32\u001b[0m, \u001b[38;5;34m32\u001b[0m, \u001b[38;5;34m64\u001b[0m)          │               \u001b[38;5;34m0\u001b[0m │\n",
              "├──────────────────────────────────────┼─────────────────────────────┼─────────────────┤\n",
              "│ conv2d_17 (\u001b[38;5;33mConv2D\u001b[0m)                   │ (\u001b[38;5;45mNone\u001b[0m, \u001b[38;5;34m32\u001b[0m, \u001b[38;5;34m32\u001b[0m, \u001b[38;5;34m128\u001b[0m)         │          \u001b[38;5;34m73,856\u001b[0m │\n",
              "├──────────────────────────────────────┼─────────────────────────────┼─────────────────┤\n",
              "│ max_pooling2d_17 (\u001b[38;5;33mMaxPooling2D\u001b[0m)      │ (\u001b[38;5;45mNone\u001b[0m, \u001b[38;5;34m16\u001b[0m, \u001b[38;5;34m16\u001b[0m, \u001b[38;5;34m128\u001b[0m)         │               \u001b[38;5;34m0\u001b[0m │\n",
              "├──────────────────────────────────────┼─────────────────────────────┼─────────────────┤\n",
              "│ global_average_pooling2d_5           │ (\u001b[38;5;45mNone\u001b[0m, \u001b[38;5;34m128\u001b[0m)                 │               \u001b[38;5;34m0\u001b[0m │\n",
              "│ (\u001b[38;5;33mGlobalAveragePooling2D\u001b[0m)             │                             │                 │\n",
              "├──────────────────────────────────────┼─────────────────────────────┼─────────────────┤\n",
              "│ dense_10 (\u001b[38;5;33mDense\u001b[0m)                     │ (\u001b[38;5;45mNone\u001b[0m, \u001b[38;5;34m256\u001b[0m)                 │          \u001b[38;5;34m33,024\u001b[0m │\n",
              "├──────────────────────────────────────┼─────────────────────────────┼─────────────────┤\n",
              "│ dense_11 (\u001b[38;5;33mDense\u001b[0m)                     │ (\u001b[38;5;45mNone\u001b[0m, \u001b[38;5;34m128\u001b[0m)                 │          \u001b[38;5;34m32,896\u001b[0m │\n",
              "└──────────────────────────────────────┴─────────────────────────────┴─────────────────┘\n"
            ],
            "text/html": [
              "<pre style=\"white-space:pre;overflow-x:auto;line-height:normal;font-family:Menlo,'DejaVu Sans Mono',consolas,'Courier New',monospace\">┏━━━━━━━━━━━━━━━━━━━━━━━━━━━━━━━━━━━━━━┳━━━━━━━━━━━━━━━━━━━━━━━━━━━━━┳━━━━━━━━━━━━━━━━━┓\n",
              "┃<span style=\"font-weight: bold\"> Layer (type)                         </span>┃<span style=\"font-weight: bold\"> Output Shape                </span>┃<span style=\"font-weight: bold\">         Param # </span>┃\n",
              "┡━━━━━━━━━━━━━━━━━━━━━━━━━━━━━━━━━━━━━━╇━━━━━━━━━━━━━━━━━━━━━━━━━━━━━╇━━━━━━━━━━━━━━━━━┩\n",
              "│ conv2d_15 (<span style=\"color: #0087ff; text-decoration-color: #0087ff\">Conv2D</span>)                   │ (<span style=\"color: #00d7ff; text-decoration-color: #00d7ff\">None</span>, <span style=\"color: #00af00; text-decoration-color: #00af00\">128</span>, <span style=\"color: #00af00; text-decoration-color: #00af00\">128</span>, <span style=\"color: #00af00; text-decoration-color: #00af00\">32</span>)        │             <span style=\"color: #00af00; text-decoration-color: #00af00\">320</span> │\n",
              "├──────────────────────────────────────┼─────────────────────────────┼─────────────────┤\n",
              "│ max_pooling2d_15 (<span style=\"color: #0087ff; text-decoration-color: #0087ff\">MaxPooling2D</span>)      │ (<span style=\"color: #00d7ff; text-decoration-color: #00d7ff\">None</span>, <span style=\"color: #00af00; text-decoration-color: #00af00\">64</span>, <span style=\"color: #00af00; text-decoration-color: #00af00\">64</span>, <span style=\"color: #00af00; text-decoration-color: #00af00\">32</span>)          │               <span style=\"color: #00af00; text-decoration-color: #00af00\">0</span> │\n",
              "├──────────────────────────────────────┼─────────────────────────────┼─────────────────┤\n",
              "│ conv2d_16 (<span style=\"color: #0087ff; text-decoration-color: #0087ff\">Conv2D</span>)                   │ (<span style=\"color: #00d7ff; text-decoration-color: #00d7ff\">None</span>, <span style=\"color: #00af00; text-decoration-color: #00af00\">64</span>, <span style=\"color: #00af00; text-decoration-color: #00af00\">64</span>, <span style=\"color: #00af00; text-decoration-color: #00af00\">64</span>)          │          <span style=\"color: #00af00; text-decoration-color: #00af00\">18,496</span> │\n",
              "├──────────────────────────────────────┼─────────────────────────────┼─────────────────┤\n",
              "│ max_pooling2d_16 (<span style=\"color: #0087ff; text-decoration-color: #0087ff\">MaxPooling2D</span>)      │ (<span style=\"color: #00d7ff; text-decoration-color: #00d7ff\">None</span>, <span style=\"color: #00af00; text-decoration-color: #00af00\">32</span>, <span style=\"color: #00af00; text-decoration-color: #00af00\">32</span>, <span style=\"color: #00af00; text-decoration-color: #00af00\">64</span>)          │               <span style=\"color: #00af00; text-decoration-color: #00af00\">0</span> │\n",
              "├──────────────────────────────────────┼─────────────────────────────┼─────────────────┤\n",
              "│ conv2d_17 (<span style=\"color: #0087ff; text-decoration-color: #0087ff\">Conv2D</span>)                   │ (<span style=\"color: #00d7ff; text-decoration-color: #00d7ff\">None</span>, <span style=\"color: #00af00; text-decoration-color: #00af00\">32</span>, <span style=\"color: #00af00; text-decoration-color: #00af00\">32</span>, <span style=\"color: #00af00; text-decoration-color: #00af00\">128</span>)         │          <span style=\"color: #00af00; text-decoration-color: #00af00\">73,856</span> │\n",
              "├──────────────────────────────────────┼─────────────────────────────┼─────────────────┤\n",
              "│ max_pooling2d_17 (<span style=\"color: #0087ff; text-decoration-color: #0087ff\">MaxPooling2D</span>)      │ (<span style=\"color: #00d7ff; text-decoration-color: #00d7ff\">None</span>, <span style=\"color: #00af00; text-decoration-color: #00af00\">16</span>, <span style=\"color: #00af00; text-decoration-color: #00af00\">16</span>, <span style=\"color: #00af00; text-decoration-color: #00af00\">128</span>)         │               <span style=\"color: #00af00; text-decoration-color: #00af00\">0</span> │\n",
              "├──────────────────────────────────────┼─────────────────────────────┼─────────────────┤\n",
              "│ global_average_pooling2d_5           │ (<span style=\"color: #00d7ff; text-decoration-color: #00d7ff\">None</span>, <span style=\"color: #00af00; text-decoration-color: #00af00\">128</span>)                 │               <span style=\"color: #00af00; text-decoration-color: #00af00\">0</span> │\n",
              "│ (<span style=\"color: #0087ff; text-decoration-color: #0087ff\">GlobalAveragePooling2D</span>)             │                             │                 │\n",
              "├──────────────────────────────────────┼─────────────────────────────┼─────────────────┤\n",
              "│ dense_10 (<span style=\"color: #0087ff; text-decoration-color: #0087ff\">Dense</span>)                     │ (<span style=\"color: #00d7ff; text-decoration-color: #00d7ff\">None</span>, <span style=\"color: #00af00; text-decoration-color: #00af00\">256</span>)                 │          <span style=\"color: #00af00; text-decoration-color: #00af00\">33,024</span> │\n",
              "├──────────────────────────────────────┼─────────────────────────────┼─────────────────┤\n",
              "│ dense_11 (<span style=\"color: #0087ff; text-decoration-color: #0087ff\">Dense</span>)                     │ (<span style=\"color: #00d7ff; text-decoration-color: #00d7ff\">None</span>, <span style=\"color: #00af00; text-decoration-color: #00af00\">128</span>)                 │          <span style=\"color: #00af00; text-decoration-color: #00af00\">32,896</span> │\n",
              "└──────────────────────────────────────┴─────────────────────────────┴─────────────────┘\n",
              "</pre>\n"
            ]
          },
          "metadata": {}
        },
        {
          "output_type": "display_data",
          "data": {
            "text/plain": [
              "\u001b[1m Total params: \u001b[0m\u001b[38;5;34m158,592\u001b[0m (619.50 KB)\n"
            ],
            "text/html": [
              "<pre style=\"white-space:pre;overflow-x:auto;line-height:normal;font-family:Menlo,'DejaVu Sans Mono',consolas,'Courier New',monospace\"><span style=\"font-weight: bold\"> Total params: </span><span style=\"color: #00af00; text-decoration-color: #00af00\">158,592</span> (619.50 KB)\n",
              "</pre>\n"
            ]
          },
          "metadata": {}
        },
        {
          "output_type": "display_data",
          "data": {
            "text/plain": [
              "\u001b[1m Trainable params: \u001b[0m\u001b[38;5;34m158,592\u001b[0m (619.50 KB)\n"
            ],
            "text/html": [
              "<pre style=\"white-space:pre;overflow-x:auto;line-height:normal;font-family:Menlo,'DejaVu Sans Mono',consolas,'Courier New',monospace\"><span style=\"font-weight: bold\"> Trainable params: </span><span style=\"color: #00af00; text-decoration-color: #00af00\">158,592</span> (619.50 KB)\n",
              "</pre>\n"
            ]
          },
          "metadata": {}
        },
        {
          "output_type": "display_data",
          "data": {
            "text/plain": [
              "\u001b[1m Non-trainable params: \u001b[0m\u001b[38;5;34m0\u001b[0m (0.00 B)\n"
            ],
            "text/html": [
              "<pre style=\"white-space:pre;overflow-x:auto;line-height:normal;font-family:Menlo,'DejaVu Sans Mono',consolas,'Courier New',monospace\"><span style=\"font-weight: bold\"> Non-trainable params: </span><span style=\"color: #00af00; text-decoration-color: #00af00\">0</span> (0.00 B)\n",
              "</pre>\n"
            ]
          },
          "metadata": {}
        }
      ],
      "source": [
        "from tensorflow import keras\n",
        "from keras import layers\n",
        "\n",
        "input_shape = (128, 128, 1)\n",
        "\n",
        "model = keras.Sequential([\n",
        "    layers.Conv2D(32, (3,3), activation=\"relu\", padding=\"same\", input_shape=input_shape),\n",
        "    layers.MaxPooling2D((2,2)),\n",
        "\n",
        "    layers.Conv2D(64, (3,3), activation=\"relu\", padding=\"same\"),\n",
        "    layers.MaxPooling2D((2,2)),\n",
        "\n",
        "    layers.Conv2D(128, (3,3), activation=\"relu\", padding=\"same\"),\n",
        "    layers.MaxPooling2D((2,2)),\n",
        "\n",
        "    layers.GlobalAveragePooling2D(),\n",
        "    layers.Dense(256, activation=\"relu\"),\n",
        "    layers.Dense(128, activation=\"softmax\")  # ✅ 128 คลาส (0-127)\n",
        "])\n",
        "\n",
        "model.compile(optimizer=\"adam\", loss=\"sparse_categorical_crossentropy\", metrics=[\"accuracy\"])\n",
        "model.summary()"
      ]
    },
    {
      "cell_type": "code",
      "execution_count": null,
      "metadata": {
        "id": "rTghtTqXpVna",
        "colab": {
          "base_uri": "https://localhost:8080/"
        },
        "outputId": "8f359770-952d-41c8-cf90-8c666116b6ad"
      },
      "outputs": [
        {
          "output_type": "stream",
          "name": "stdout",
          "text": [
            "Epoch 1/10\n",
            "    296/Unknown \u001b[1m395s\u001b[0m 1s/step - accuracy: 0.0181 - loss: 4.5156✅ Total samples loaded: 20000\n",
            "\u001b[1m313/313\u001b[0m \u001b[32m━━━━━━━━━━━━━━━━━━━━\u001b[0m\u001b[37m\u001b[0m \u001b[1m398s\u001b[0m 1s/step - accuracy: 0.0194 - loss: 4.5008\n",
            "Epoch 2/10\n",
            "\u001b[1m296/313\u001b[0m \u001b[32m━━━━━━━━━━━━━━━━━━\u001b[0m\u001b[37m━━\u001b[0m \u001b[1m17s\u001b[0m 1s/step - accuracy: 0.1741 - loss: 3.2793✅ Total samples loaded: 20000\n",
            "\u001b[1m313/313\u001b[0m \u001b[32m━━━━━━━━━━━━━━━━━━━━\u001b[0m\u001b[37m\u001b[0m \u001b[1m318s\u001b[0m 965ms/step - accuracy: 0.1775 - loss: 3.2664\n",
            "Epoch 3/10\n",
            "\u001b[1m296/313\u001b[0m \u001b[32m━━━━━━━━━━━━━━━━━━\u001b[0m\u001b[37m━━\u001b[0m \u001b[1m17s\u001b[0m 1s/step - accuracy: 0.3541 - loss: 2.5550✅ Total samples loaded: 20000\n",
            "\u001b[1m313/313\u001b[0m \u001b[32m━━━━━━━━━━━━━━━━━━━━\u001b[0m\u001b[37m\u001b[0m \u001b[1m316s\u001b[0m 959ms/step - accuracy: 0.3561 - loss: 2.5481\n",
            "Epoch 4/10\n",
            "\u001b[1m296/313\u001b[0m \u001b[32m━━━━━━━━━━━━━━━━━━\u001b[0m\u001b[37m━━\u001b[0m \u001b[1m17s\u001b[0m 1s/step - accuracy: 0.4460 - loss: 2.1992✅ Total samples loaded: 20000\n",
            "\u001b[1m313/313\u001b[0m \u001b[32m━━━━━━━━━━━━━━━━━━━━\u001b[0m\u001b[37m\u001b[0m \u001b[1m315s\u001b[0m 957ms/step - accuracy: 0.4468 - loss: 2.1955\n",
            "Epoch 5/10\n",
            "\u001b[1m296/313\u001b[0m \u001b[32m━━━━━━━━━━━━━━━━━━\u001b[0m\u001b[37m━━\u001b[0m \u001b[1m17s\u001b[0m 1s/step - accuracy: 0.5097 - loss: 1.9668✅ Total samples loaded: 20000\n",
            "\u001b[1m313/313\u001b[0m \u001b[32m━━━━━━━━━━━━━━━━━━━━\u001b[0m\u001b[37m\u001b[0m \u001b[1m315s\u001b[0m 956ms/step - accuracy: 0.5101 - loss: 1.9646\n",
            "Epoch 6/10\n",
            "\u001b[1m296/313\u001b[0m \u001b[32m━━━━━━━━━━━━━━━━━━\u001b[0m\u001b[37m━━\u001b[0m \u001b[1m16s\u001b[0m 970ms/step - accuracy: 0.5479 - loss: 1.8067✅ Total samples loaded: 20000\n",
            "\u001b[1m313/313\u001b[0m \u001b[32m━━━━━━━━━━━━━━━━━━━━\u001b[0m\u001b[37m\u001b[0m \u001b[1m304s\u001b[0m 921ms/step - accuracy: 0.5483 - loss: 1.8042\n",
            "Epoch 7/10\n",
            "\u001b[1m296/313\u001b[0m \u001b[32m━━━━━━━━━━━━━━━━━━\u001b[0m\u001b[37m━━\u001b[0m \u001b[1m15s\u001b[0m 937ms/step - accuracy: 0.5747 - loss: 1.6854✅ Total samples loaded: 20000\n",
            "\u001b[1m313/313\u001b[0m \u001b[32m━━━━━━━━━━━━━━━━━━━━\u001b[0m\u001b[37m\u001b[0m \u001b[1m293s\u001b[0m 890ms/step - accuracy: 0.5751 - loss: 1.6834\n",
            "Epoch 8/10\n",
            "\u001b[1m296/313\u001b[0m \u001b[32m━━━━━━━━━━━━━━━━━━\u001b[0m\u001b[37m━━\u001b[0m \u001b[1m16s\u001b[0m 946ms/step - accuracy: 0.5956 - loss: 1.5727✅ Total samples loaded: 20000\n",
            "\u001b[1m313/313\u001b[0m \u001b[32m━━━━━━━━━━━━━━━━━━━━\u001b[0m\u001b[37m\u001b[0m \u001b[1m296s\u001b[0m 898ms/step - accuracy: 0.5962 - loss: 1.5711\n",
            "Epoch 9/10\n",
            "\u001b[1m296/313\u001b[0m \u001b[32m━━━━━━━━━━━━━━━━━━\u001b[0m\u001b[37m━━\u001b[0m \u001b[1m15s\u001b[0m 930ms/step - accuracy: 0.6198 - loss: 1.4857✅ Total samples loaded: 20000\n",
            "\u001b[1m313/313\u001b[0m \u001b[32m━━━━━━━━━━━━━━━━━━━━\u001b[0m\u001b[37m\u001b[0m \u001b[1m290s\u001b[0m 883ms/step - accuracy: 0.6200 - loss: 1.4844\n",
            "Epoch 10/10\n",
            "\u001b[1m296/313\u001b[0m \u001b[32m━━━━━━━━━━━━━━━━━━\u001b[0m\u001b[37m━━\u001b[0m \u001b[1m15s\u001b[0m 939ms/step - accuracy: 0.6443 - loss: 1.4111✅ Total samples loaded: 20000\n",
            "\u001b[1m313/313\u001b[0m \u001b[32m━━━━━━━━━━━━━━━━━━━━\u001b[0m\u001b[37m\u001b[0m \u001b[1m293s\u001b[0m 891ms/step - accuracy: 0.6444 - loss: 1.4098\n"
          ]
        },
        {
          "output_type": "execute_result",
          "data": {
            "text/plain": [
              "<keras.src.callbacks.history.History at 0x7978fc3ff5d0>"
            ]
          },
          "metadata": {},
          "execution_count": 27
        }
      ],
      "source": [
        "# ฝึกโมเดลด้วย dataset ที่สร้างไว้\n",
        "model.fit(dataset, epochs=10)\n"
      ]
    },
    {
      "cell_type": "code",
      "execution_count": null,
      "metadata": {
        "id": "fb4d-wz1pVna",
        "colab": {
          "base_uri": "https://localhost:8080/"
        },
        "outputId": "6e0d9d18-b739-4d05-9b7e-b9f543ba68f0"
      },
      "outputs": [
        {
          "output_type": "stream",
          "name": "stdout",
          "text": [
            "\u001b[1m1/1\u001b[0m \u001b[32m━━━━━━━━━━━━━━━━━━━━\u001b[0m\u001b[37m\u001b[0m \u001b[1m1s\u001b[0m 502ms/step\n",
            "Predicted Pitch: 88\n"
          ]
        }
      ],
      "source": [
        "# โหลดตัวอย่างเสียงใหม่\n",
        "test_file = \"/content/drive/My Drive/dataset/nsynth-train/audio/vocal_synthetic_012-086-100.wav\"\n",
        "test_mel, _ = load_audio(test_file)\n",
        "\n",
        "# แปลงเป็น Tensor\n",
        "test_mel = np.expand_dims(test_mel, axis=(0, -1))  # Reshape เป็น (1, 128, Time, 1)\n",
        "\n",
        "# ทำนายโน้ต\n",
        "prediction = model.predict(test_mel)\n",
        "predicted_pitch = np.argmax(prediction)\n",
        "\n",
        "print(f\"Predicted Pitch: {predicted_pitch}\")\n"
      ]
    },
    {
      "cell_type": "markdown",
      "source": [],
      "metadata": {
        "id": "gPNQQSuFqAB3"
      }
    },
    {
      "cell_type": "code",
      "source": [
        "# บันทึกโมเดลหลังจากการฝึก\n",
        "model.save('/content/drive/My Drive/dataset/MelNoteClassifierV2.h5')\n"
      ],
      "metadata": {
        "id": "XT8PXN2OB3y3"
      },
      "execution_count": null,
      "outputs": []
    },
    {
      "cell_type": "markdown",
      "source": [
        "# **ต่อไปจะเป็นการ finetune**"
      ],
      "metadata": {
        "id": "xnY2focLC0vU"
      }
    },
    {
      "cell_type": "code",
      "source": [
        "# กำหนดช่วงข้อมูลที่ต้องการ\n",
        "start_idx = 20000  # ข้อมูลเริ่มต้นที่ index 20001 (ตัวที่ 20001 คือ index 20000)\n",
        "end_idx = 50000    # ข้อมูลสิ้นสุดที่ index 50000 (ตัวที่ 50000 คือ index 49999)\n",
        "\n",
        "def data_generator():\n",
        "    count = 0\n",
        "    for i, (key, info) in enumerate(metadata.items()):\n",
        "        if i < start_idx:\n",
        "            continue  # ข้ามข้อมูลที่น้อยกว่า 20001\n",
        "\n",
        "        if i >= end_idx:\n",
        "            break  # หยุดเมื่อถึงข้อมูลที่ 50000\n",
        "\n",
        "        file_name = key + \".wav\"\n",
        "        file_path = os.path.join(audio_dir, file_name)\n",
        "\n",
        "        if not os.path.exists(file_path):\n",
        "            print(f\"❌ File not found: {file_path}\")\n",
        "            continue\n",
        "\n",
        "        mel_spec, _ = load_audio(file_path)\n",
        "        pitch = info[\"pitch\"]\n",
        "\n",
        "        if not (min_pitch <= pitch <= max_pitch):\n",
        "            continue\n",
        "\n",
        "        count += 1\n",
        "        yield mel_spec, pitch - min_pitch  # Shift pitch ให้เริ่มที่ 0\n",
        "\n",
        "    print(f\"✅ Total samples loaded: {count}\")\n"
      ],
      "metadata": {
        "id": "5ic6nrcuENuK"
      },
      "execution_count": null,
      "outputs": []
    },
    {
      "cell_type": "code",
      "source": [
        "from keras.models import load_model\n",
        "\n",
        "# โหลดโมเดลที่บันทึก\n",
        "model = load_model('/content/drive/My Drive/dataset/MelNoteClassifier.h5')"
      ],
      "metadata": {
        "colab": {
          "base_uri": "https://localhost:8080/"
        },
        "id": "Wh0YFFq9C6w-",
        "outputId": "861f63dc-b744-4aeb-d137-9cebf6889cc0"
      },
      "execution_count": null,
      "outputs": [
        {
          "output_type": "stream",
          "name": "stderr",
          "text": [
            "WARNING:absl:Compiled the loaded model, but the compiled metrics have yet to be built. `model.compile_metrics` will be empty until you train or evaluate the model.\n"
          ]
        }
      ]
    },
    {
      "cell_type": "code",
      "source": [
        "# ทำให้ชั้นก่อนหน้านี้ไม่สามารถฝึกได้\n",
        "for layer in model.layers[:-2]:  # ปรับเฉพาะ 2 ชั้นสุดท้าย\n",
        "    layer.trainable = False\n",
        "\n",
        "# คอมไพล์โมเดลใหม่\n",
        "model.compile(optimizer=\"adam\", loss=\"sparse_categorical_crossentropy\", metrics=[\"accuracy\"])\n"
      ],
      "metadata": {
        "id": "VzlSjrRlEVle"
      },
      "execution_count": null,
      "outputs": []
    },
    {
      "cell_type": "code",
      "source": [
        "# สร้าง Dataset ใหม่จาก data generator\n",
        "dataset = tf.data.Dataset.from_generator(\n",
        "    data_generator,\n",
        "    output_signature=(\n",
        "        tf.TensorSpec(shape=(128, 128, 1), dtype=tf.float32),\n",
        "        tf.TensorSpec(shape=(), dtype=tf.int32)\n",
        "    )\n",
        ")\n",
        "\n",
        "dataset = dataset.shuffle(1000).batch(batch_size).prefetch(tf.data.AUTOTUNE)\n"
      ],
      "metadata": {
        "id": "lJfq1lNQEXkf"
      },
      "execution_count": null,
      "outputs": []
    },
    {
      "cell_type": "code",
      "source": [
        "from tensorflow.keras.callbacks import ReduceLROnPlateau\n",
        "\n",
        "# ใช้ ReduceLROnPlateau เพื่อลด learning rate เมื่อ loss ไม่ลดลง\n",
        "lr_scheduler = ReduceLROnPlateau(monitor=\"loss\", factor=0.5, patience=3, min_lr=1e-6)\n",
        "\n",
        "# ฝึกโมเดลด้วย callback\n",
        "model.fit(dataset, epochs=10, callbacks=[lr_scheduler])"
      ],
      "metadata": {
        "colab": {
          "base_uri": "https://localhost:8080/"
        },
        "id": "wVtbdU7yFB58",
        "outputId": "36e40e44-f471-4f42-d431-fcdd1f844fb4"
      },
      "execution_count": null,
      "outputs": [
        {
          "output_type": "stream",
          "name": "stdout",
          "text": [
            "Epoch 1/10\n",
            "    453/Unknown \u001b[1m755s\u001b[0m 2s/step - accuracy: 0.6486 - loss: 1.3999✅ Total samples loaded: 30000\n",
            "\u001b[1m469/469\u001b[0m \u001b[32m━━━━━━━━━━━━━━━━━━━━\u001b[0m\u001b[37m\u001b[0m \u001b[1m762s\u001b[0m 2s/step - accuracy: 0.6489 - loss: 1.3988 - learning_rate: 0.0010\n",
            "Epoch 2/10\n"
          ]
        },
        {
          "output_type": "stream",
          "name": "stderr",
          "text": [
            "/usr/local/lib/python3.11/dist-packages/keras/src/trainers/epoch_iterator.py:151: UserWarning: Your input ran out of data; interrupting training. Make sure that your dataset or generator can generate at least `steps_per_epoch * epochs` batches. You may need to use the `.repeat()` function when building your dataset.\n",
            "  self._interrupted_warning()\n"
          ]
        },
        {
          "output_type": "stream",
          "name": "stdout",
          "text": [
            "\u001b[1m453/469\u001b[0m \u001b[32m━━━━━━━━━━━━━━━━━━━\u001b[0m\u001b[37m━\u001b[0m \u001b[1m23s\u001b[0m 1s/step - accuracy: 0.6701 - loss: 1.3059✅ Total samples loaded: 30000\n",
            "\u001b[1m469/469\u001b[0m \u001b[32m━━━━━━━━━━━━━━━━━━━━\u001b[0m\u001b[37m\u001b[0m \u001b[1m685s\u001b[0m 1s/step - accuracy: 0.6701 - loss: 1.3055 - learning_rate: 0.0010\n",
            "Epoch 3/10\n",
            "\u001b[1m453/469\u001b[0m \u001b[32m━━━━━━━━━━━━━━━━━━━\u001b[0m\u001b[37m━\u001b[0m \u001b[1m23s\u001b[0m 1s/step - accuracy: 0.6765 - loss: 1.2586✅ Total samples loaded: 30000\n",
            "\u001b[1m469/469\u001b[0m \u001b[32m━━━━━━━━━━━━━━━━━━━━\u001b[0m\u001b[37m\u001b[0m \u001b[1m697s\u001b[0m 1s/step - accuracy: 0.6766 - loss: 1.2582 - learning_rate: 0.0010\n",
            "Epoch 4/10\n",
            "\u001b[1m453/469\u001b[0m \u001b[32m━━━━━━━━━━━━━━━━━━━\u001b[0m\u001b[37m━\u001b[0m \u001b[1m23s\u001b[0m 1s/step - accuracy: 0.6855 - loss: 1.2162✅ Total samples loaded: 30000\n",
            "\u001b[1m469/469\u001b[0m \u001b[32m━━━━━━━━━━━━━━━━━━━━\u001b[0m\u001b[37m\u001b[0m \u001b[1m688s\u001b[0m 1s/step - accuracy: 0.6855 - loss: 1.2160 - learning_rate: 0.0010\n",
            "Epoch 5/10\n",
            "\u001b[1m453/469\u001b[0m \u001b[32m━━━━━━━━━━━━━━━━━━━\u001b[0m\u001b[37m━\u001b[0m \u001b[1m23s\u001b[0m 1s/step - accuracy: 0.6925 - loss: 1.1821✅ Total samples loaded: 30000\n",
            "\u001b[1m469/469\u001b[0m \u001b[32m━━━━━━━━━━━━━━━━━━━━\u001b[0m\u001b[37m\u001b[0m \u001b[1m686s\u001b[0m 1s/step - accuracy: 0.6925 - loss: 1.1821 - learning_rate: 0.0010\n",
            "Epoch 6/10\n",
            "\u001b[1m453/469\u001b[0m \u001b[32m━━━━━━━━━━━━━━━━━━━\u001b[0m\u001b[37m━\u001b[0m \u001b[1m24s\u001b[0m 2s/step - accuracy: 0.6948 - loss: 1.1589✅ Total samples loaded: 30000\n",
            "\u001b[1m469/469\u001b[0m \u001b[32m━━━━━━━━━━━━━━━━━━━━\u001b[0m\u001b[37m\u001b[0m \u001b[1m704s\u001b[0m 1s/step - accuracy: 0.6948 - loss: 1.1588 - learning_rate: 0.0010\n",
            "Epoch 7/10\n",
            "\u001b[1m453/469\u001b[0m \u001b[32m━━━━━━━━━━━━━━━━━━━\u001b[0m\u001b[37m━\u001b[0m \u001b[1m22s\u001b[0m 1s/step - accuracy: 0.7029 - loss: 1.1265✅ Total samples loaded: 30000\n",
            "\u001b[1m469/469\u001b[0m \u001b[32m━━━━━━━━━━━━━━━━━━━━\u001b[0m\u001b[37m\u001b[0m \u001b[1m671s\u001b[0m 1s/step - accuracy: 0.7030 - loss: 1.1266 - learning_rate: 0.0010\n",
            "Epoch 8/10\n",
            "\u001b[1m453/469\u001b[0m \u001b[32m━━━━━━━━━━━━━━━━━━━\u001b[0m\u001b[37m━\u001b[0m \u001b[1m22s\u001b[0m 1s/step - accuracy: 0.7045 - loss: 1.1180✅ Total samples loaded: 30000\n",
            "\u001b[1m469/469\u001b[0m \u001b[32m━━━━━━━━━━━━━━━━━━━━\u001b[0m\u001b[37m\u001b[0m \u001b[1m653s\u001b[0m 1s/step - accuracy: 0.7045 - loss: 1.1178 - learning_rate: 0.0010\n",
            "Epoch 9/10\n",
            "\u001b[1m453/469\u001b[0m \u001b[32m━━━━━━━━━━━━━━━━━━━\u001b[0m\u001b[37m━\u001b[0m \u001b[1m22s\u001b[0m 1s/step - accuracy: 0.7114 - loss: 1.0901✅ Total samples loaded: 30000\n",
            "\u001b[1m469/469\u001b[0m \u001b[32m━━━━━━━━━━━━━━━━━━━━\u001b[0m\u001b[37m\u001b[0m \u001b[1m654s\u001b[0m 1s/step - accuracy: 0.7114 - loss: 1.0902 - learning_rate: 0.0010\n",
            "Epoch 10/10\n",
            "\u001b[1m453/469\u001b[0m \u001b[32m━━━━━━━━━━━━━━━━━━━\u001b[0m\u001b[37m━\u001b[0m \u001b[1m22s\u001b[0m 1s/step - accuracy: 0.7137 - loss: 1.0659✅ Total samples loaded: 30000\n",
            "\u001b[1m469/469\u001b[0m \u001b[32m━━━━━━━━━━━━━━━━━━━━\u001b[0m\u001b[37m\u001b[0m \u001b[1m652s\u001b[0m 1s/step - accuracy: 0.7137 - loss: 1.0661 - learning_rate: 0.0010\n"
          ]
        },
        {
          "output_type": "execute_result",
          "data": {
            "text/plain": [
              "<keras.src.callbacks.history.History at 0x79784b87d250>"
            ]
          },
          "metadata": {},
          "execution_count": 39
        }
      ]
    },
    {
      "cell_type": "code",
      "source": [
        "model.save('/content/drive/My Drive/dataset/MelNoteClassifierV2.h5')"
      ],
      "metadata": {
        "colab": {
          "base_uri": "https://localhost:8080/"
        },
        "id": "Xn71xzE8gqeI",
        "outputId": "112dc462-4da1-44af-9cc7-fe5444eb289b"
      },
      "execution_count": null,
      "outputs": [
        {
          "output_type": "stream",
          "name": "stderr",
          "text": [
            "WARNING:absl:You are saving your model as an HDF5 file via `model.save()` or `keras.saving.save_model(model)`. This file format is considered legacy. We recommend using instead the native Keras format, e.g. `model.save('my_model.keras')` or `keras.saving.save_model(model, 'my_model.keras')`. \n"
          ]
        }
      ]
    },
    {
      "cell_type": "code",
      "source": [
        "from keras.models import load_model\n",
        "\n",
        "# โหลดโมเดลที่บันทึก\n",
        "base_model = load_model('/content/drive/My Drive/dataset/MelNoteClassifierV4.h5')"
      ],
      "metadata": {
        "colab": {
          "base_uri": "https://localhost:8080/"
        },
        "id": "nEWBJjatmAcx",
        "outputId": "e6a6caa6-c073-4022-959b-664d131080ee"
      },
      "execution_count": null,
      "outputs": [
        {
          "output_type": "stream",
          "name": "stderr",
          "text": [
            "WARNING:absl:Compiled the loaded model, but the compiled metrics have yet to be built. `model.compile_metrics` will be empty until you train or evaluate the model.\n"
          ]
        }
      ]
    },
    {
      "cell_type": "code",
      "source": [
        "for layer in base_model.layers[:-5]:  # Freeze ทุกเลเยอร์ ยกเว้น 5 ชั้นสุดท้าย\n",
        "    layer.trainable = False\n",
        "for layer in base_model.layers[-5:]:  # ปลดล็อก 5 ชั้นสุดท้าย\n",
        "    layer.trainable = True"
      ],
      "metadata": {
        "id": "ahbex2FqpV1z"
      },
      "execution_count": null,
      "outputs": []
    },
    {
      "cell_type": "code",
      "source": [
        "train_start_idx, train_end_idx = 60000,70000\n",
        "val_start_idx, val_end_idx = 70000, 78750  # Validation set\n",
        "test_start_idx, test_end_idx = 78750, 87500  # Test set\n",
        "\n",
        "def data_generator(start_idx, end_idx):\n",
        "    count = 0\n",
        "    for i, (key, info) in enumerate(metadata.items()):\n",
        "        if i < start_idx:\n",
        "            continue  # ข้ามข้อมูลที่ไม่ใช้\n",
        "\n",
        "        if i >= end_idx:\n",
        "            break  # หยุดเมื่อถึงข้อมูลที่ end_idx\n",
        "\n",
        "        file_name = key + \".wav\"\n",
        "        file_path = os.path.join(audio_dir, file_name)\n",
        "\n",
        "        if not os.path.exists(file_path):\n",
        "            print(f\"❌ File not found: {file_path}\")\n",
        "            continue\n",
        "\n",
        "        mel_spec, _ = load_audio(file_path)  # โหลดเสียงและแปลงเป็น Mel-Spectrogram\n",
        "        pitch = info[\"pitch\"]\n",
        "\n",
        "        count += 1\n",
        "        yield mel_spec, pitch - min_pitch  # Shift pitch ให้เริ่มที่ 0\n",
        "\n",
        "    print(f\"✅ Total samples loaded: {count}\")\n",
        "\n",
        "# สร้าง Dataset ใหม่จาก data generator\n",
        "\n",
        "train_dataset = tf.data.Dataset.from_generator(\n",
        "    lambda: data_generator(train_start_idx, train_end_idx),\n",
        "    output_signature=(tf.TensorSpec(shape=(128, 128, 1), dtype=tf.float32), tf.TensorSpec(shape=(), dtype=tf.int32))\n",
        ").batch(batch_size).prefetch(tf.data.AUTOTUNE)\n",
        "\n",
        "# Validation set\n",
        "val_dataset = tf.data.Dataset.from_generator(\n",
        "    lambda: data_generator(val_start_idx, val_end_idx),\n",
        "    output_signature=(tf.TensorSpec(shape=(128, 128, 1), dtype=tf.float32), tf.TensorSpec(shape=(), dtype=tf.int32))\n",
        ").batch(batch_size).prefetch(tf.data.AUTOTUNE)\n",
        "\n",
        "# Test set\n",
        "test_dataset = tf.data.Dataset.from_generator(\n",
        "    lambda: data_generator(test_start_idx, test_end_idx),\n",
        "    output_signature=(tf.TensorSpec(shape=(128, 128, 1), dtype=tf.float32), tf.TensorSpec(shape=(), dtype=tf.int32))\n",
        ").batch(batch_size).prefetch(tf.data.AUTOTUNE)\n"
      ],
      "metadata": {
        "id": "Wq76eRofl1wY"
      },
      "execution_count": 61,
      "outputs": []
    },
    {
      "cell_type": "code",
      "source": [
        "fine_tune_model = base_model  # ใช้ base_model ที่เทรนไว้แล้ว\n",
        "\n",
        "# ลด Learning Rate เพื่อ Fine-tune ให้แม่นขึ้น\n",
        "fine_tune_model.compile(optimizer=tf.keras.optimizers.Adam(learning_rate=0.0001),\n",
        "                        loss=\"sparse_categorical_crossentropy\",\n",
        "                        metrics=[\"accuracy\"])"
      ],
      "metadata": {
        "id": "7tZN91aHncO0"
      },
      "execution_count": null,
      "outputs": []
    },
    {
      "cell_type": "code",
      "source": [
        "fine_tune_model.fit(train_dataset, epochs=10,validation_data=val_dataset)"
      ],
      "metadata": {
        "colab": {
          "base_uri": "https://localhost:8080/"
        },
        "id": "Wxyw30ibnlvJ",
        "outputId": "00252181-6d7e-43ce-ee89-5c7268774724"
      },
      "execution_count": null,
      "outputs": [
        {
          "output_type": "stream",
          "name": "stdout",
          "text": [
            "Epoch 1/10\n",
            "    156/Unknown \u001b[1m147s\u001b[0m 923ms/step - accuracy: 0.6823 - loss: 1.2648✅ Total samples loaded: 10000\n",
            "    157/Unknown \u001b[1m151s\u001b[0m 945ms/step - accuracy: 0.6823 - loss: 1.2648"
          ]
        },
        {
          "output_type": "stream",
          "name": "stderr",
          "text": [
            "/usr/local/lib/python3.11/dist-packages/keras/src/trainers/epoch_iterator.py:151: UserWarning: Your input ran out of data; interrupting training. Make sure that your dataset or generator can generate at least `steps_per_epoch * epochs` batches. You may need to use the `.repeat()` function when building your dataset.\n",
            "  self._interrupted_warning()\n"
          ]
        },
        {
          "output_type": "stream",
          "name": "stdout",
          "text": [
            "✅ Total samples loaded: 8750\n",
            "\u001b[1m157/157\u001b[0m \u001b[32m━━━━━━━━━━━━━━━━━━━━\u001b[0m\u001b[37m\u001b[0m \u001b[1m280s\u001b[0m 2s/step - accuracy: 0.6823 - loss: 1.2648 - val_accuracy: 0.7016 - val_loss: 1.1765\n",
            "Epoch 2/10\n",
            "\u001b[1m156/157\u001b[0m \u001b[32m━━━━━━━━━━━━━━━━━━━\u001b[0m\u001b[37m━\u001b[0m \u001b[1m0s\u001b[0m 927ms/step - accuracy: 0.7009 - loss: 1.2075✅ Total samples loaded: 10000\n",
            "\u001b[1m157/157\u001b[0m \u001b[32m━━━━━━━━━━━━━━━━━━━━\u001b[0m\u001b[37m\u001b[0m \u001b[1m0s\u001b[0m 922ms/step - accuracy: 0.7009 - loss: 1.2077✅ Total samples loaded: 8750\n",
            "\u001b[1m157/157\u001b[0m \u001b[32m━━━━━━━━━━━━━━━━━━━━\u001b[0m\u001b[37m\u001b[0m \u001b[1m317s\u001b[0m 2s/step - accuracy: 0.7009 - loss: 1.2078 - val_accuracy: 0.7025 - val_loss: 1.1694\n",
            "Epoch 3/10\n",
            "\u001b[1m156/157\u001b[0m \u001b[32m━━━━━━━━━━━━━━━━━━━\u001b[0m\u001b[37m━\u001b[0m \u001b[1m0s\u001b[0m 921ms/step - accuracy: 0.7056 - loss: 1.1904✅ Total samples loaded: 10000\n",
            "\u001b[1m157/157\u001b[0m \u001b[32m━━━━━━━━━━━━━━━━━━━━\u001b[0m\u001b[37m\u001b[0m \u001b[1m0s\u001b[0m 917ms/step - accuracy: 0.7055 - loss: 1.1906✅ Total samples loaded: 8750\n",
            "\u001b[1m157/157\u001b[0m \u001b[32m━━━━━━━━━━━━━━━━━━━━\u001b[0m\u001b[37m\u001b[0m \u001b[1m269s\u001b[0m 2s/step - accuracy: 0.7055 - loss: 1.1907 - val_accuracy: 0.7033 - val_loss: 1.1650\n",
            "Epoch 4/10\n",
            "\u001b[1m156/157\u001b[0m \u001b[32m━━━━━━━━━━━━━━━━━━━\u001b[0m\u001b[37m━\u001b[0m \u001b[1m0s\u001b[0m 919ms/step - accuracy: 0.7092 - loss: 1.1774✅ Total samples loaded: 10000\n",
            "\u001b[1m157/157\u001b[0m \u001b[32m━━━━━━━━━━━━━━━━━━━━\u001b[0m\u001b[37m\u001b[0m \u001b[1m0s\u001b[0m 915ms/step - accuracy: 0.7092 - loss: 1.1775✅ Total samples loaded: 8750\n",
            "\u001b[1m157/157\u001b[0m \u001b[32m━━━━━━━━━━━━━━━━━━━━\u001b[0m\u001b[37m\u001b[0m \u001b[1m322s\u001b[0m 2s/step - accuracy: 0.7091 - loss: 1.1776 - val_accuracy: 0.7049 - val_loss: 1.1623\n",
            "Epoch 5/10\n",
            "\u001b[1m156/157\u001b[0m \u001b[32m━━━━━━━━━━━━━━━━━━━\u001b[0m\u001b[37m━\u001b[0m \u001b[1m0s\u001b[0m 918ms/step - accuracy: 0.7131 - loss: 1.1664✅ Total samples loaded: 10000\n",
            "\u001b[1m157/157\u001b[0m \u001b[32m━━━━━━━━━━━━━━━━━━━━\u001b[0m\u001b[37m\u001b[0m \u001b[1m0s\u001b[0m 914ms/step - accuracy: 0.7130 - loss: 1.1666✅ Total samples loaded: 8750\n",
            "\u001b[1m157/157\u001b[0m \u001b[32m━━━━━━━━━━━━━━━━━━━━\u001b[0m\u001b[37m\u001b[0m \u001b[1m269s\u001b[0m 2s/step - accuracy: 0.7130 - loss: 1.1667 - val_accuracy: 0.7054 - val_loss: 1.1598\n",
            "Epoch 6/10\n",
            "\u001b[1m156/157\u001b[0m \u001b[32m━━━━━━━━━━━━━━━━━━━\u001b[0m\u001b[37m━\u001b[0m \u001b[1m0s\u001b[0m 922ms/step - accuracy: 0.7141 - loss: 1.1565✅ Total samples loaded: 10000\n",
            "\u001b[1m157/157\u001b[0m \u001b[32m━━━━━━━━━━━━━━━━━━━━\u001b[0m\u001b[37m\u001b[0m \u001b[1m0s\u001b[0m 917ms/step - accuracy: 0.7141 - loss: 1.1567✅ Total samples loaded: 8750\n",
            "\u001b[1m157/157\u001b[0m \u001b[32m━━━━━━━━━━━━━━━━━━━━\u001b[0m\u001b[37m\u001b[0m \u001b[1m321s\u001b[0m 2s/step - accuracy: 0.7141 - loss: 1.1568 - val_accuracy: 0.7062 - val_loss: 1.1579\n",
            "Epoch 7/10\n",
            "\u001b[1m156/157\u001b[0m \u001b[32m━━━━━━━━━━━━━━━━━━━\u001b[0m\u001b[37m━\u001b[0m \u001b[1m0s\u001b[0m 921ms/step - accuracy: 0.7142 - loss: 1.1479✅ Total samples loaded: 10000\n",
            "\u001b[1m157/157\u001b[0m \u001b[32m━━━━━━━━━━━━━━━━━━━━\u001b[0m\u001b[37m\u001b[0m \u001b[1m0s\u001b[0m 917ms/step - accuracy: 0.7142 - loss: 1.1480✅ Total samples loaded: 8750\n",
            "\u001b[1m157/157\u001b[0m \u001b[32m━━━━━━━━━━━━━━━━━━━━\u001b[0m\u001b[37m\u001b[0m \u001b[1m322s\u001b[0m 2s/step - accuracy: 0.7141 - loss: 1.1482 - val_accuracy: 0.7070 - val_loss: 1.1566\n",
            "Epoch 8/10\n",
            "\u001b[1m156/157\u001b[0m \u001b[32m━━━━━━━━━━━━━━━━━━━\u001b[0m\u001b[37m━\u001b[0m \u001b[1m0s\u001b[0m 923ms/step - accuracy: 0.7153 - loss: 1.1398✅ Total samples loaded: 10000\n",
            "\u001b[1m157/157\u001b[0m \u001b[32m━━━━━━━━━━━━━━━━━━━━\u001b[0m\u001b[37m\u001b[0m \u001b[1m0s\u001b[0m 919ms/step - accuracy: 0.7153 - loss: 1.1399✅ Total samples loaded: 8750\n",
            "\u001b[1m157/157\u001b[0m \u001b[32m━━━━━━━━━━━━━━━━━━━━\u001b[0m\u001b[37m\u001b[0m \u001b[1m322s\u001b[0m 2s/step - accuracy: 0.7153 - loss: 1.1400 - val_accuracy: 0.7069 - val_loss: 1.1549\n",
            "Epoch 9/10\n",
            "\u001b[1m156/157\u001b[0m \u001b[32m━━━━━━━━━━━━━━━━━━━\u001b[0m\u001b[37m━\u001b[0m \u001b[1m0s\u001b[0m 919ms/step - accuracy: 0.7166 - loss: 1.1322✅ Total samples loaded: 10000\n",
            "\u001b[1m157/157\u001b[0m \u001b[32m━━━━━━━━━━━━━━━━━━━━\u001b[0m\u001b[37m\u001b[0m \u001b[1m0s\u001b[0m 915ms/step - accuracy: 0.7166 - loss: 1.1323✅ Total samples loaded: 8750\n",
            "\u001b[1m157/157\u001b[0m \u001b[32m━━━━━━━━━━━━━━━━━━━━\u001b[0m\u001b[37m\u001b[0m \u001b[1m323s\u001b[0m 2s/step - accuracy: 0.7166 - loss: 1.1325 - val_accuracy: 0.7069 - val_loss: 1.1545\n",
            "Epoch 10/10\n",
            "\u001b[1m156/157\u001b[0m \u001b[32m━━━━━━━━━━━━━━━━━━━\u001b[0m\u001b[37m━\u001b[0m \u001b[1m0s\u001b[0m 917ms/step - accuracy: 0.7190 - loss: 1.1250✅ Total samples loaded: 10000\n",
            "\u001b[1m157/157\u001b[0m \u001b[32m━━━━━━━━━━━━━━━━━━━━\u001b[0m\u001b[37m\u001b[0m \u001b[1m0s\u001b[0m 912ms/step - accuracy: 0.7189 - loss: 1.1251✅ Total samples loaded: 8750\n",
            "\u001b[1m157/157\u001b[0m \u001b[32m━━━━━━━━━━━━━━━━━━━━\u001b[0m\u001b[37m\u001b[0m \u001b[1m381s\u001b[0m 2s/step - accuracy: 0.7189 - loss: 1.1253 - val_accuracy: 0.7072 - val_loss: 1.1536\n"
          ]
        },
        {
          "output_type": "execute_result",
          "data": {
            "text/plain": [
              "<keras.src.callbacks.history.History at 0x797831cfb590>"
            ]
          },
          "metadata": {},
          "execution_count": 81
        }
      ]
    },
    {
      "cell_type": "markdown",
      "source": [
        "ประเมินผล"
      ],
      "metadata": {
        "id": "X33DWgBjFJSt"
      }
    },
    {
      "cell_type": "code",
      "source": [
        "test_loss, test_acc = fine_tune_model.evaluate(test_dataset)\n",
        "print(f\"Test Accuracy: {test_acc:.4f}\")"
      ],
      "metadata": {
        "colab": {
          "base_uri": "https://localhost:8080/"
        },
        "id": "c6LcRb3HFLW2",
        "outputId": "a97fcbb8-490f-455b-bdd1-5b14ad2089a5"
      },
      "execution_count": null,
      "outputs": [
        {
          "output_type": "stream",
          "name": "stdout",
          "text": [
            "    136/Unknown \u001b[1m130s\u001b[0m 952ms/step - accuracy: 0.7020 - loss: 1.1761✅ Total samples loaded: 8750\n",
            "\u001b[1m137/137\u001b[0m \u001b[32m━━━━━━━━━━━━━━━━━━━━\u001b[0m\u001b[37m\u001b[0m \u001b[1m130s\u001b[0m 951ms/step - accuracy: 0.7021 - loss: 1.1758\n",
            "Test Accuracy: 0.7070\n"
          ]
        }
      ]
    },
    {
      "cell_type": "markdown",
      "source": [],
      "metadata": {
        "id": "pGn6HDxk0jdU"
      }
    },
    {
      "cell_type": "code",
      "source": [
        "model.save('/content/drive/My Drive/dataset/MelNoteClassifierV3.h5')"
      ],
      "metadata": {
        "colab": {
          "base_uri": "https://localhost:8080/"
        },
        "id": "_9nWKACwHW4b",
        "outputId": "d92cac17-a63a-409a-8dff-a50f9513a697"
      },
      "execution_count": null,
      "outputs": [
        {
          "output_type": "stream",
          "name": "stderr",
          "text": [
            "WARNING:absl:You are saving your model as an HDF5 file via `model.save()` or `keras.saving.save_model(model)`. This file format is considered legacy. We recommend using instead the native Keras format, e.g. `model.save('my_model.keras')` or `keras.saving.save_model(model, 'my_model.keras')`. \n"
          ]
        }
      ]
    },
    {
      "cell_type": "code",
      "source": [
        "from keras.models import load_model\n",
        "\n",
        "# 1. โหลดโมเดลที่บันทึก (โมเดลที่เทรนไปแล้ว)\n",
        "base_model = load_model('/content/drive/My Drive/dataset/MelNoteClassifierV2.h5')"
      ],
      "metadata": {
        "colab": {
          "base_uri": "https://localhost:8080/"
        },
        "id": "4z_v0Iru463r",
        "outputId": "3b0a253b-09cc-4b9f-f98a-fadc55dec21c"
      },
      "execution_count": null,
      "outputs": [
        {
          "output_type": "stream",
          "name": "stderr",
          "text": [
            "WARNING:absl:Compiled the loaded model, but the compiled metrics have yet to be built. `model.compile_metrics` will be empty until you train or evaluate the model.\n"
          ]
        }
      ]
    },
    {
      "cell_type": "code",
      "source": [
        "# 2. Freeze เลเยอร์ทั้งหมด ยกเว้น 5 ชั้นสุดท้าย\n",
        "for layer in base_model.layers[:-5]:  # Freeze ทุกเลเยอร์ ยกเว้น 5 ชั้นสุดท้าย\n",
        "    layer.trainable = False\n",
        "\n",
        "for layer in base_model.layers[-5:]:  # ปลดล็อก 5 ชั้นสุดท้าย\n",
        "    layer.trainable = True\n",
        "\n",
        "# 3. เตรียมโมเดลสำหรับ fine-tune\n",
        "# คุณไม่ต้องสร้างโมเดลใหม่เพราะเราใช้ base_model ที่โหลดมาแล้ว\n",
        "fine_tune_model = base_model\n",
        "\n",
        "# 4. ลด Learning Rate สำหรับ fine-tune\n",
        "fine_tune_model.compile(optimizer=tf.keras.optimizers.Adam(learning_rate=0.0001),\n",
        "                        loss=\"sparse_categorical_crossentropy\",\n",
        "                        metrics=[\"accuracy\"])\n",
        "\n",
        "# 5. ฝึกโมเดล (Fine-tune) เพิ่ม\n",
        "history = fine_tune_model.fit(train_dataset,\n",
        "                    epochs=20,  # เพิ่ม epochs ตามที่ต้องการ\n",
        "                    validation_data=val_dataset)  # ใช้ validation data\n",
        "\n"
      ],
      "metadata": {
        "colab": {
          "base_uri": "https://localhost:8080/"
        },
        "id": "gPvvCeo0HXL7",
        "outputId": "e0a09434-26ba-4540-d27c-85fb539db5e4"
      },
      "execution_count": null,
      "outputs": [
        {
          "output_type": "stream",
          "name": "stderr",
          "text": [
            "WARNING:absl:Compiled the loaded model, but the compiled metrics have yet to be built. `model.compile_metrics` will be empty until you train or evaluate the model.\n"
          ]
        },
        {
          "output_type": "stream",
          "name": "stdout",
          "text": [
            "Epoch 1/20\n",
            "    156/Unknown \u001b[1m154s\u001b[0m 966ms/step - accuracy: 0.6823 - loss: 1.2648✅ Total samples loaded: 10000\n",
            "    157/Unknown \u001b[1m155s\u001b[0m 968ms/step - accuracy: 0.6823 - loss: 1.2648✅ Total samples loaded: 8750\n",
            "\u001b[1m157/157\u001b[0m \u001b[32m━━━━━━━━━━━━━━━━━━━━\u001b[0m\u001b[37m\u001b[0m \u001b[1m286s\u001b[0m 2s/step - accuracy: 0.6823 - loss: 1.2648 - val_accuracy: 0.7016 - val_loss: 1.1765\n",
            "Epoch 2/20\n",
            "\u001b[1m156/157\u001b[0m \u001b[32m━━━━━━━━━━━━━━━━━━━\u001b[0m\u001b[37m━\u001b[0m \u001b[1m0s\u001b[0m 958ms/step - accuracy: 0.7009 - loss: 1.2075✅ Total samples loaded: 10000\n",
            "\u001b[1m157/157\u001b[0m \u001b[32m━━━━━━━━━━━━━━━━━━━━\u001b[0m\u001b[37m\u001b[0m \u001b[1m0s\u001b[0m 954ms/step - accuracy: 0.7009 - loss: 1.2077✅ Total samples loaded: 8750\n",
            "\u001b[1m157/157\u001b[0m \u001b[32m━━━━━━━━━━━━━━━━━━━━\u001b[0m\u001b[37m\u001b[0m \u001b[1m280s\u001b[0m 2s/step - accuracy: 0.7009 - loss: 1.2078 - val_accuracy: 0.7025 - val_loss: 1.1694\n",
            "Epoch 3/20\n",
            "\u001b[1m156/157\u001b[0m \u001b[32m━━━━━━━━━━━━━━━━━━━\u001b[0m\u001b[37m━\u001b[0m \u001b[1m0s\u001b[0m 961ms/step - accuracy: 0.7056 - loss: 1.1904✅ Total samples loaded: 10000\n",
            "\u001b[1m157/157\u001b[0m \u001b[32m━━━━━━━━━━━━━━━━━━━━\u001b[0m\u001b[37m\u001b[0m \u001b[1m0s\u001b[0m 956ms/step - accuracy: 0.7055 - loss: 1.1906✅ Total samples loaded: 8750\n",
            "\u001b[1m157/157\u001b[0m \u001b[32m━━━━━━━━━━━━━━━━━━━━\u001b[0m\u001b[37m\u001b[0m \u001b[1m322s\u001b[0m 2s/step - accuracy: 0.7055 - loss: 1.1907 - val_accuracy: 0.7033 - val_loss: 1.1650\n",
            "Epoch 4/20\n",
            "\u001b[1m156/157\u001b[0m \u001b[32m━━━━━━━━━━━━━━━━━━━\u001b[0m\u001b[37m━\u001b[0m \u001b[1m0s\u001b[0m 961ms/step - accuracy: 0.7092 - loss: 1.1774✅ Total samples loaded: 10000\n",
            "\u001b[1m157/157\u001b[0m \u001b[32m━━━━━━━━━━━━━━━━━━━━\u001b[0m\u001b[37m\u001b[0m \u001b[1m0s\u001b[0m 956ms/step - accuracy: 0.7092 - loss: 1.1775✅ Total samples loaded: 8750\n",
            "\u001b[1m157/157\u001b[0m \u001b[32m━━━━━━━━━━━━━━━━━━━━\u001b[0m\u001b[37m\u001b[0m \u001b[1m339s\u001b[0m 2s/step - accuracy: 0.7091 - loss: 1.1776 - val_accuracy: 0.7049 - val_loss: 1.1623\n",
            "Epoch 5/20\n",
            "\u001b[1m156/157\u001b[0m \u001b[32m━━━━━━━━━━━━━━━━━━━\u001b[0m\u001b[37m━\u001b[0m \u001b[1m0s\u001b[0m 958ms/step - accuracy: 0.7131 - loss: 1.1664✅ Total samples loaded: 10000\n",
            "\u001b[1m157/157\u001b[0m \u001b[32m━━━━━━━━━━━━━━━━━━━━\u001b[0m\u001b[37m\u001b[0m \u001b[1m0s\u001b[0m 953ms/step - accuracy: 0.7130 - loss: 1.1666✅ Total samples loaded: 8750\n",
            "\u001b[1m157/157\u001b[0m \u001b[32m━━━━━━━━━━━━━━━━━━━━\u001b[0m\u001b[37m\u001b[0m \u001b[1m324s\u001b[0m 2s/step - accuracy: 0.7130 - loss: 1.1667 - val_accuracy: 0.7054 - val_loss: 1.1598\n",
            "Epoch 6/20\n",
            "\u001b[1m156/157\u001b[0m \u001b[32m━━━━━━━━━━━━━━━━━━━\u001b[0m\u001b[37m━\u001b[0m \u001b[1m0s\u001b[0m 955ms/step - accuracy: 0.7141 - loss: 1.1565✅ Total samples loaded: 10000\n",
            "\u001b[1m157/157\u001b[0m \u001b[32m━━━━━━━━━━━━━━━━━━━━\u001b[0m\u001b[37m\u001b[0m \u001b[1m0s\u001b[0m 950ms/step - accuracy: 0.7141 - loss: 1.1567✅ Total samples loaded: 8750\n",
            "\u001b[1m157/157\u001b[0m \u001b[32m━━━━━━━━━━━━━━━━━━━━\u001b[0m\u001b[37m\u001b[0m \u001b[1m382s\u001b[0m 2s/step - accuracy: 0.7141 - loss: 1.1568 - val_accuracy: 0.7062 - val_loss: 1.1579\n",
            "Epoch 7/20\n",
            "\u001b[1m156/157\u001b[0m \u001b[32m━━━━━━━━━━━━━━━━━━━\u001b[0m\u001b[37m━\u001b[0m \u001b[1m0s\u001b[0m 958ms/step - accuracy: 0.7142 - loss: 1.1479✅ Total samples loaded: 10000\n",
            "\u001b[1m157/157\u001b[0m \u001b[32m━━━━━━━━━━━━━━━━━━━━\u001b[0m\u001b[37m\u001b[0m \u001b[1m0s\u001b[0m 954ms/step - accuracy: 0.7142 - loss: 1.1480✅ Total samples loaded: 8750\n",
            "\u001b[1m157/157\u001b[0m \u001b[32m━━━━━━━━━━━━━━━━━━━━\u001b[0m\u001b[37m\u001b[0m \u001b[1m322s\u001b[0m 2s/step - accuracy: 0.7141 - loss: 1.1482 - val_accuracy: 0.7070 - val_loss: 1.1566\n",
            "Epoch 8/20\n",
            "\u001b[1m156/157\u001b[0m \u001b[32m━━━━━━━━━━━━━━━━━━━\u001b[0m\u001b[37m━\u001b[0m \u001b[1m0s\u001b[0m 952ms/step - accuracy: 0.7153 - loss: 1.1398✅ Total samples loaded: 10000\n",
            "\u001b[1m157/157\u001b[0m \u001b[32m━━━━━━━━━━━━━━━━━━━━\u001b[0m\u001b[37m\u001b[0m \u001b[1m0s\u001b[0m 947ms/step - accuracy: 0.7153 - loss: 1.1399✅ Total samples loaded: 8750\n",
            "\u001b[1m157/157\u001b[0m \u001b[32m━━━━━━━━━━━━━━━━━━━━\u001b[0m\u001b[37m\u001b[0m \u001b[1m382s\u001b[0m 2s/step - accuracy: 0.7153 - loss: 1.1400 - val_accuracy: 0.7069 - val_loss: 1.1549\n",
            "Epoch 9/20\n",
            "\u001b[1m156/157\u001b[0m \u001b[32m━━━━━━━━━━━━━━━━━━━\u001b[0m\u001b[37m━\u001b[0m \u001b[1m0s\u001b[0m 956ms/step - accuracy: 0.7166 - loss: 1.1322✅ Total samples loaded: 10000\n",
            "\u001b[1m157/157\u001b[0m \u001b[32m━━━━━━━━━━━━━━━━━━━━\u001b[0m\u001b[37m\u001b[0m \u001b[1m0s\u001b[0m 952ms/step - accuracy: 0.7166 - loss: 1.1323✅ Total samples loaded: 8750\n",
            "\u001b[1m157/157\u001b[0m \u001b[32m━━━━━━━━━━━━━━━━━━━━\u001b[0m\u001b[37m\u001b[0m \u001b[1m381s\u001b[0m 2s/step - accuracy: 0.7166 - loss: 1.1325 - val_accuracy: 0.7069 - val_loss: 1.1545\n",
            "Epoch 10/20\n",
            "\u001b[1m156/157\u001b[0m \u001b[32m━━━━━━━━━━━━━━━━━━━\u001b[0m\u001b[37m━\u001b[0m \u001b[1m0s\u001b[0m 962ms/step - accuracy: 0.7190 - loss: 1.1250✅ Total samples loaded: 10000\n",
            "\u001b[1m157/157\u001b[0m \u001b[32m━━━━━━━━━━━━━━━━━━━━\u001b[0m\u001b[37m\u001b[0m \u001b[1m0s\u001b[0m 957ms/step - accuracy: 0.7189 - loss: 1.1251✅ Total samples loaded: 8750\n",
            "\u001b[1m157/157\u001b[0m \u001b[32m━━━━━━━━━━━━━━━━━━━━\u001b[0m\u001b[37m\u001b[0m \u001b[1m280s\u001b[0m 2s/step - accuracy: 0.7189 - loss: 1.1253 - val_accuracy: 0.7072 - val_loss: 1.1536\n",
            "Epoch 11/20\n",
            "\u001b[1m156/157\u001b[0m \u001b[32m━━━━━━━━━━━━━━━━━━━\u001b[0m\u001b[37m━\u001b[0m \u001b[1m0s\u001b[0m 953ms/step - accuracy: 0.7211 - loss: 1.1177✅ Total samples loaded: 10000\n",
            "\u001b[1m157/157\u001b[0m \u001b[32m━━━━━━━━━━━━━━━━━━━━\u001b[0m\u001b[37m\u001b[0m \u001b[1m0s\u001b[0m 949ms/step - accuracy: 0.7211 - loss: 1.1178✅ Total samples loaded: 8750\n",
            "\u001b[1m157/157\u001b[0m \u001b[32m━━━━━━━━━━━━━━━━━━━━\u001b[0m\u001b[37m\u001b[0m \u001b[1m322s\u001b[0m 2s/step - accuracy: 0.7211 - loss: 1.1180 - val_accuracy: 0.7073 - val_loss: 1.1529\n",
            "Epoch 12/20\n",
            "\u001b[1m156/157\u001b[0m \u001b[32m━━━━━━━━━━━━━━━━━━━\u001b[0m\u001b[37m━\u001b[0m \u001b[1m0s\u001b[0m 956ms/step - accuracy: 0.7227 - loss: 1.1110✅ Total samples loaded: 10000\n",
            "\u001b[1m157/157\u001b[0m \u001b[32m━━━━━━━━━━━━━━━━━━━━\u001b[0m\u001b[37m\u001b[0m \u001b[1m0s\u001b[0m 952ms/step - accuracy: 0.7226 - loss: 1.1112✅ Total samples loaded: 8750\n",
            "\u001b[1m157/157\u001b[0m \u001b[32m━━━━━━━━━━━━━━━━━━━━\u001b[0m\u001b[37m\u001b[0m \u001b[1m323s\u001b[0m 2s/step - accuracy: 0.7226 - loss: 1.1113 - val_accuracy: 0.7067 - val_loss: 1.1525\n",
            "Epoch 13/20\n",
            "\u001b[1m156/157\u001b[0m \u001b[32m━━━━━━━━━━━━━━━━━━━\u001b[0m\u001b[37m━\u001b[0m \u001b[1m0s\u001b[0m 961ms/step - accuracy: 0.7257 - loss: 1.1046✅ Total samples loaded: 10000\n",
            "\u001b[1m157/157\u001b[0m \u001b[32m━━━━━━━━━━━━━━━━━━━━\u001b[0m\u001b[37m\u001b[0m \u001b[1m0s\u001b[0m 956ms/step - accuracy: 0.7257 - loss: 1.1047✅ Total samples loaded: 8750\n",
            "\u001b[1m157/157\u001b[0m \u001b[32m━━━━━━━━━━━━━━━━━━━━\u001b[0m\u001b[37m\u001b[0m \u001b[1m382s\u001b[0m 2s/step - accuracy: 0.7256 - loss: 1.1048 - val_accuracy: 0.7077 - val_loss: 1.1516\n",
            "Epoch 14/20\n",
            "\u001b[1m156/157\u001b[0m \u001b[32m━━━━━━━━━━━━━━━━━━━\u001b[0m\u001b[37m━\u001b[0m \u001b[1m0s\u001b[0m 960ms/step - accuracy: 0.7257 - loss: 1.0984✅ Total samples loaded: 10000\n",
            "\u001b[1m157/157\u001b[0m \u001b[32m━━━━━━━━━━━━━━━━━━━━\u001b[0m\u001b[37m\u001b[0m \u001b[1m0s\u001b[0m 956ms/step - accuracy: 0.7257 - loss: 1.0986✅ Total samples loaded: 8750\n",
            "\u001b[1m157/157\u001b[0m \u001b[32m━━━━━━━━━━━━━━━━━━━━\u001b[0m\u001b[37m\u001b[0m \u001b[1m381s\u001b[0m 2s/step - accuracy: 0.7257 - loss: 1.0987 - val_accuracy: 0.7067 - val_loss: 1.1515\n",
            "Epoch 15/20\n",
            "\u001b[1m156/157\u001b[0m \u001b[32m━━━━━━━━━━━━━━━━━━━\u001b[0m\u001b[37m━\u001b[0m \u001b[1m0s\u001b[0m 957ms/step - accuracy: 0.7270 - loss: 1.0923✅ Total samples loaded: 10000\n",
            "\u001b[1m157/157\u001b[0m \u001b[32m━━━━━━━━━━━━━━━━━━━━\u001b[0m\u001b[37m\u001b[0m \u001b[1m0s\u001b[0m 953ms/step - accuracy: 0.7270 - loss: 1.0925✅ Total samples loaded: 8750\n",
            "\u001b[1m157/157\u001b[0m \u001b[32m━━━━━━━━━━━━━━━━━━━━\u001b[0m\u001b[37m\u001b[0m \u001b[1m281s\u001b[0m 2s/step - accuracy: 0.7270 - loss: 1.0926 - val_accuracy: 0.7074 - val_loss: 1.1504\n",
            "Epoch 16/20\n",
            "\u001b[1m156/157\u001b[0m \u001b[32m━━━━━━━━━━━━━━━━━━━\u001b[0m\u001b[37m━\u001b[0m \u001b[1m0s\u001b[0m 956ms/step - accuracy: 0.7280 - loss: 1.0864✅ Total samples loaded: 10000\n",
            "\u001b[1m157/157\u001b[0m \u001b[32m━━━━━━━━━━━━━━━━━━━━\u001b[0m\u001b[37m\u001b[0m \u001b[1m0s\u001b[0m 952ms/step - accuracy: 0.7280 - loss: 1.0865✅ Total samples loaded: 8750\n",
            "\u001b[1m157/157\u001b[0m \u001b[32m━━━━━━━━━━━━━━━━━━━━\u001b[0m\u001b[37m\u001b[0m \u001b[1m280s\u001b[0m 2s/step - accuracy: 0.7280 - loss: 1.0866 - val_accuracy: 0.7081 - val_loss: 1.1497\n",
            "Epoch 17/20\n",
            "\u001b[1m156/157\u001b[0m \u001b[32m━━━━━━━━━━━━━━━━━━━\u001b[0m\u001b[37m━\u001b[0m \u001b[1m0s\u001b[0m 962ms/step - accuracy: 0.7282 - loss: 1.0803✅ Total samples loaded: 10000\n",
            "\u001b[1m157/157\u001b[0m \u001b[32m━━━━━━━━━━━━━━━━━━━━\u001b[0m\u001b[37m\u001b[0m \u001b[1m0s\u001b[0m 957ms/step - accuracy: 0.7282 - loss: 1.0804✅ Total samples loaded: 8750\n",
            "\u001b[1m157/157\u001b[0m \u001b[32m━━━━━━━━━━━━━━━━━━━━\u001b[0m\u001b[37m\u001b[0m \u001b[1m322s\u001b[0m 2s/step - accuracy: 0.7282 - loss: 1.0805 - val_accuracy: 0.7090 - val_loss: 1.1485\n",
            "Epoch 18/20\n",
            "\u001b[1m156/157\u001b[0m \u001b[32m━━━━━━━━━━━━━━━━━━━\u001b[0m\u001b[37m━\u001b[0m \u001b[1m0s\u001b[0m 962ms/step - accuracy: 0.7296 - loss: 1.0748✅ Total samples loaded: 10000\n",
            "\u001b[1m157/157\u001b[0m \u001b[32m━━━━━━━━━━━━━━━━━━━━\u001b[0m\u001b[37m\u001b[0m \u001b[1m0s\u001b[0m 958ms/step - accuracy: 0.7295 - loss: 1.0749✅ Total samples loaded: 8750\n",
            "\u001b[1m157/157\u001b[0m \u001b[32m━━━━━━━━━━━━━━━━━━━━\u001b[0m\u001b[37m\u001b[0m \u001b[1m321s\u001b[0m 2s/step - accuracy: 0.7295 - loss: 1.0751 - val_accuracy: 0.7087 - val_loss: 1.1478\n",
            "Epoch 19/20\n",
            "\u001b[1m156/157\u001b[0m \u001b[32m━━━━━━━━━━━━━━━━━━━\u001b[0m\u001b[37m━\u001b[0m \u001b[1m0s\u001b[0m 961ms/step - accuracy: 0.7308 - loss: 1.0690✅ Total samples loaded: 10000\n",
            "\u001b[1m157/157\u001b[0m \u001b[32m━━━━━━━━━━━━━━━━━━━━\u001b[0m\u001b[37m\u001b[0m \u001b[1m0s\u001b[0m 956ms/step - accuracy: 0.7308 - loss: 1.0691✅ Total samples loaded: 8750\n",
            "\u001b[1m157/157\u001b[0m \u001b[32m━━━━━━━━━━━━━━━━━━━━\u001b[0m\u001b[37m\u001b[0m \u001b[1m322s\u001b[0m 2s/step - accuracy: 0.7308 - loss: 1.0693 - val_accuracy: 0.7103 - val_loss: 1.1473\n",
            "Epoch 20/20\n",
            "\u001b[1m156/157\u001b[0m \u001b[32m━━━━━━━━━━━━━━━━━━━\u001b[0m\u001b[37m━\u001b[0m \u001b[1m0s\u001b[0m 960ms/step - accuracy: 0.7329 - loss: 1.0638✅ Total samples loaded: 10000\n",
            "\u001b[1m157/157\u001b[0m \u001b[32m━━━━━━━━━━━━━━━━━━━━\u001b[0m\u001b[37m\u001b[0m \u001b[1m0s\u001b[0m 955ms/step - accuracy: 0.7329 - loss: 1.0639✅ Total samples loaded: 8750\n",
            "\u001b[1m157/157\u001b[0m \u001b[32m━━━━━━━━━━━━━━━━━━━━\u001b[0m\u001b[37m\u001b[0m \u001b[1m383s\u001b[0m 2s/step - accuracy: 0.7329 - loss: 1.0641 - val_accuracy: 0.7106 - val_loss: 1.1466\n"
          ]
        }
      ]
    },
    {
      "cell_type": "code",
      "source": [
        "fine_tune_model.save('/content/drive/My Drive/dataset/MelNoteClassifierV5.h5')"
      ],
      "metadata": {
        "colab": {
          "base_uri": "https://localhost:8080/"
        },
        "id": "xNqpBHnNIcsU",
        "outputId": "137acd3a-5d30-4094-d009-095a90fb6d60"
      },
      "execution_count": null,
      "outputs": [
        {
          "output_type": "stream",
          "name": "stderr",
          "text": [
            "WARNING:absl:You are saving your model as an HDF5 file via `model.save()` or `keras.saving.save_model(model)`. This file format is considered legacy. We recommend using instead the native Keras format, e.g. `model.save('my_model.keras')` or `keras.saving.save_model(model, 'my_model.keras')`. \n"
          ]
        }
      ]
    },
    {
      "cell_type": "code",
      "source": [
        "import matplotlib.pyplot as plt\n",
        "\n",
        "# พล็อตกราฟ Loss\n",
        "plt.figure(figsize=(12, 5))\n",
        "\n",
        "plt.subplot(1, 2, 1)\n",
        "plt.plot(history.history['loss'], label='Training Loss')\n",
        "plt.plot(history.history['val_loss'], label='Validation Loss')\n",
        "plt.xlabel('Epochs')\n",
        "plt.ylabel('Loss')\n",
        "plt.title('Training & Validation Loss')\n",
        "plt.legend()\n",
        "\n",
        "# พล็อตกราฟ Accuracy\n",
        "plt.subplot(1, 2, 2)\n",
        "plt.plot(history.history['accuracy'], label='Training Accuracy')\n",
        "plt.plot(history.history['val_accuracy'], label='Validation Accuracy')\n",
        "plt.xlabel('Epochs')\n",
        "plt.ylabel('Accuracy')\n",
        "plt.title('Training & Validation Accuracy')\n",
        "plt.legend()\n",
        "\n",
        "plt.show()\n"
      ],
      "metadata": {
        "colab": {
          "base_uri": "https://localhost:8080/",
          "height": 487
        },
        "id": "AuvyFo0N2U7v",
        "outputId": "1adad3ed-df6a-4912-beef-6ca0b3cbbcdf"
      },
      "execution_count": null,
      "outputs": [
        {
          "output_type": "display_data",
          "data": {
            "text/plain": [
              "<Figure size 1200x500 with 2 Axes>"
            ],
            "image/png": "[encoded data removed]"
          },
          "metadata": {}
        }
      ]
    },
    {
      "cell_type": "code",
      "source": [
        "batch_size = 64"
      ],
      "metadata": {
        "id": "ruURRHfCwzzj"
      },
      "execution_count": 62,
      "outputs": []
    },
    {
      "cell_type": "code",
      "source": [
        "val_start_idx, val_end_idx = 70000, 78750\n",
        "new_start_idx, new_end_idx = 100044, 110028\n",
        "test_start_idx, test_end_idx = 78750, 87500\n",
        "def data_generator(start_idx, end_idx):\n",
        "    count = 0\n",
        "    for i, (key, info) in enumerate(metadata.items()):\n",
        "        if i < start_idx:\n",
        "            continue  # ข้ามข้อมูลที่ไม่ใช้\n",
        "\n",
        "        if i >= end_idx:\n",
        "            break  # หยุดเมื่อถึงข้อมูลที่ end_idx\n",
        "\n",
        "        file_name = key + \".wav\"\n",
        "        file_path = os.path.join(audio_dir, file_name)\n",
        "\n",
        "        if not os.path.exists(file_path):\n",
        "            print(f\"❌ File not found: {file_path}\")\n",
        "            continue\n",
        "\n",
        "        mel_spec, _ = load_audio(file_path)  # โหลดเสียงและแปลงเป็น Mel-Spectrogram\n",
        "        pitch = info[\"pitch\"]\n",
        "\n",
        "        count += 1\n",
        "        yield mel_spec, pitch - min_pitch  # Shift pitch ให้เริ่มที่ 0\n",
        "\n",
        "    print(f\"✅ Total samples loaded: {count}\")\n",
        "\n",
        "new_dataset = tf.data.Dataset.from_generator(\n",
        "    lambda: data_generator(new_start_idx, new_end_idx),\n",
        "    output_signature=(tf.TensorSpec(shape=(128, 128, 1), dtype=tf.float32),tf.TensorSpec(shape=(), dtype=tf.int32))\n",
        ").batch(batch_size).prefetch(tf.data.AUTOTUNE)\n",
        "\n",
        "    # Validation set\n",
        "val_dataset = tf.data.Dataset.from_generator(\n",
        "    lambda: data_generator(val_start_idx, val_end_idx),\n",
        "    output_signature=(tf.TensorSpec(shape=(128, 128, 1), dtype=tf.float32), tf.TensorSpec(shape=(), dtype=tf.int32))\n",
        ").batch(batch_size).prefetch(tf.data.AUTOTUNE)\n",
        "\n",
        "# Test set\n",
        "test_dataset = tf.data.Dataset.from_generator(\n",
        "    lambda: data_generator(test_start_idx, test_end_idx),\n",
        "    output_signature=(tf.TensorSpec(shape=(128, 128, 1), dtype=tf.float32), tf.TensorSpec(shape=(), dtype=tf.int32))\n",
        ").batch(batch_size).prefetch(tf.data.AUTOTUNE)"
      ],
      "metadata": {
        "id": "pt9V2Uvmwr_S"
      },
      "execution_count": 65,
      "outputs": []
    },
    {
      "cell_type": "code",
      "source": [
        "from keras.models import load_model\n",
        "import tensorflow as tf\n",
        "\n",
        "# โหลดโมเดลที่เทรนไว้แล้ว\n",
        "base_model = load_model('/content/drive/My Drive/dataset/MelNoteClassifierV6.h5')\n",
        "fine_tune_model2 = base_model\n",
        "# ปรับ Freeze เลเยอร์ (ปลดล็อกเฉพาะ 5 ชั้นสุดท้าย)\n",
        "for layer in base_model.layers[:-5]:\n",
        "    layer.trainable = False\n",
        "for layer in base_model.layers[-5:]:\n",
        "    layer.trainable = True\n",
        "\n",
        "# ลด Learning Rate สำหรับ Fine-tuning\n",
        "fine_tune_model2.compile(optimizer=tf.keras.optimizers.Adam(learning_rate=0.0001),\n",
        "                   loss=\"sparse_categorical_crossentropy\",\n",
        "                   metrics=[\"accuracy\"])\n",
        "\n",
        "\n",
        "steps_per_epoch = 196\n",
        "history = base_model.fit(new_dataset,\n",
        "                         epochs=20,\n",
        "                         validation_data=val_dataset)\n",
        "\n"
      ],
      "metadata": {
        "colab": {
          "base_uri": "https://localhost:8080/"
        },
        "id": "fe8cdlz4u4N8",
        "outputId": "9e5f7eb2-81ca-4655-a963-d9ee465734a1"
      },
      "execution_count": null,
      "outputs": [
        {
          "output_type": "stream",
          "name": "stderr",
          "text": [
            "WARNING:absl:Compiled the loaded model, but the compiled metrics have yet to be built. `model.compile_metrics` will be empty until you train or evaluate the model.\n"
          ]
        },
        {
          "output_type": "stream",
          "name": "stdout",
          "text": [
            "Epoch 1/20\n",
            "    155/Unknown \u001b[1m146s\u001b[0m 906ms/step - accuracy: 0.7204 - loss: 1.1400✅ Total samples loaded: 9984\n",
            "    156/Unknown \u001b[1m147s\u001b[0m 906ms/step - accuracy: 0.7205 - loss: 1.1399✅ Total samples loaded: 8750\n",
            "\u001b[1m156/156\u001b[0m \u001b[32m━━━━━━━━━━━━━━━━━━━━\u001b[0m\u001b[37m\u001b[0m \u001b[1m274s\u001b[0m 2s/step - accuracy: 0.7205 - loss: 1.1399 - val_accuracy: 0.7123 - val_loss: 1.1228\n",
            "Epoch 2/20\n",
            "\u001b[1m155/156\u001b[0m \u001b[32m━━━━━━━━━━━━━━━━━━━\u001b[0m\u001b[37m━\u001b[0m \u001b[1m0s\u001b[0m 909ms/step - accuracy: 0.7269 - loss: 1.1133✅ Total samples loaded: 9984\n",
            "\u001b[1m156/156\u001b[0m \u001b[32m━━━━━━━━━━━━━━━━━━━━\u001b[0m\u001b[37m\u001b[0m \u001b[1m0s\u001b[0m 908ms/step - accuracy: 0.7270 - loss: 1.1133✅ Total samples loaded: 8750\n",
            "\u001b[1m156/156\u001b[0m \u001b[32m━━━━━━━━━━━━━━━━━━━━\u001b[0m\u001b[37m\u001b[0m \u001b[1m315s\u001b[0m 2s/step - accuracy: 0.7270 - loss: 1.1132 - val_accuracy: 0.7120 - val_loss: 1.1206\n",
            "Epoch 3/20\n",
            "\u001b[1m155/156\u001b[0m \u001b[32m━━━━━━━━━━━━━━━━━━━\u001b[0m\u001b[37m━\u001b[0m \u001b[1m0s\u001b[0m 878ms/step - accuracy: 0.7302 - loss: 1.1014✅ Total samples loaded: 9984\n",
            "\u001b[1m156/156\u001b[0m \u001b[32m━━━━━━━━━━━━━━━━━━━━\u001b[0m\u001b[37m\u001b[0m \u001b[1m0s\u001b[0m 877ms/step - accuracy: 0.7303 - loss: 1.1013✅ Total samples loaded: 8750\n",
            "\u001b[1m156/156\u001b[0m \u001b[32m━━━━━━━━━━━━━━━━━━━━\u001b[0m\u001b[37m\u001b[0m \u001b[1m264s\u001b[0m 2s/step - accuracy: 0.7303 - loss: 1.1013 - val_accuracy: 0.7129 - val_loss: 1.1187\n",
            "Epoch 4/20\n",
            "\u001b[1m155/156\u001b[0m \u001b[32m━━━━━━━━━━━━━━━━━━━\u001b[0m\u001b[37m━\u001b[0m \u001b[1m0s\u001b[0m 880ms/step - accuracy: 0.7330 - loss: 1.0908✅ Total samples loaded: 9984\n",
            "\u001b[1m156/156\u001b[0m \u001b[32m━━━━━━━━━━━━━━━━━━━━\u001b[0m\u001b[37m\u001b[0m \u001b[1m0s\u001b[0m 880ms/step - accuracy: 0.7331 - loss: 1.0908✅ Total samples loaded: 8750\n",
            "\u001b[1m156/156\u001b[0m \u001b[32m━━━━━━━━━━━━━━━━━━━━\u001b[0m\u001b[37m\u001b[0m \u001b[1m321s\u001b[0m 2s/step - accuracy: 0.7331 - loss: 1.0908 - val_accuracy: 0.7126 - val_loss: 1.1177\n",
            "Epoch 5/20\n",
            "\u001b[1m155/156\u001b[0m \u001b[32m━━━━━━━━━━━━━━━━━━━\u001b[0m\u001b[37m━\u001b[0m \u001b[1m0s\u001b[0m 879ms/step - accuracy: 0.7320 - loss: 1.0822✅ Total samples loaded: 9984\n",
            "\u001b[1m156/156\u001b[0m \u001b[32m━━━━━━━━━━━━━━━━━━━━\u001b[0m\u001b[37m\u001b[0m \u001b[1m0s\u001b[0m 879ms/step - accuracy: 0.7320 - loss: 1.0821✅ Total samples loaded: 8750\n",
            "\u001b[1m156/156\u001b[0m \u001b[32m━━━━━━━━━━━━━━━━━━━━\u001b[0m\u001b[37m\u001b[0m \u001b[1m262s\u001b[0m 2s/step - accuracy: 0.7321 - loss: 1.0821 - val_accuracy: 0.7123 - val_loss: 1.1166\n",
            "Epoch 6/20\n",
            "\u001b[1m155/156\u001b[0m \u001b[32m━━━━━━━━━━━━━━━━━━━\u001b[0m\u001b[37m━\u001b[0m \u001b[1m0s\u001b[0m 923ms/step - accuracy: 0.7327 - loss: 1.0742✅ Total samples loaded: 9984\n",
            "\u001b[1m156/156\u001b[0m \u001b[32m━━━━━━━━━━━━━━━━━━━━\u001b[0m\u001b[37m\u001b[0m \u001b[1m0s\u001b[0m 924ms/step - accuracy: 0.7327 - loss: 1.0742✅ Total samples loaded: 8750\n",
            "\u001b[1m156/156\u001b[0m \u001b[32m━━━━━━━━━━━━━━━━━━━━\u001b[0m\u001b[37m\u001b[0m \u001b[1m325s\u001b[0m 2s/step - accuracy: 0.7328 - loss: 1.0741 - val_accuracy: 0.7134 - val_loss: 1.1157\n",
            "Epoch 7/20\n",
            "\u001b[1m155/156\u001b[0m \u001b[32m━━━━━━━━━━━━━━━━━━━\u001b[0m\u001b[37m━\u001b[0m \u001b[1m0s\u001b[0m 891ms/step - accuracy: 0.7334 - loss: 1.0669✅ Total samples loaded: 9984\n",
            "\u001b[1m156/156\u001b[0m \u001b[32m━━━━━━━━━━━━━━━━━━━━\u001b[0m\u001b[37m\u001b[0m \u001b[1m0s\u001b[0m 891ms/step - accuracy: 0.7335 - loss: 1.0669✅ Total samples loaded: 8750\n",
            "\u001b[1m156/156\u001b[0m \u001b[32m━━━━━━━━━━━━━━━━━━━━\u001b[0m\u001b[37m\u001b[0m \u001b[1m260s\u001b[0m 2s/step - accuracy: 0.7335 - loss: 1.0669 - val_accuracy: 0.7131 - val_loss: 1.1150\n",
            "Epoch 8/20\n",
            "\u001b[1m155/156\u001b[0m \u001b[32m━━━━━━━━━━━━━━━━━━━\u001b[0m\u001b[37m━\u001b[0m \u001b[1m0s\u001b[0m 886ms/step - accuracy: 0.7351 - loss: 1.0602✅ Total samples loaded: 9984\n",
            "\u001b[1m156/156\u001b[0m \u001b[32m━━━━━━━━━━━━━━━━━━━━\u001b[0m\u001b[37m\u001b[0m \u001b[1m0s\u001b[0m 886ms/step - accuracy: 0.7351 - loss: 1.0602✅ Total samples loaded: 8750\n",
            "\u001b[1m156/156\u001b[0m \u001b[32m━━━━━━━━━━━━━━━━━━━━\u001b[0m\u001b[37m\u001b[0m \u001b[1m260s\u001b[0m 2s/step - accuracy: 0.7352 - loss: 1.0602 - val_accuracy: 0.7133 - val_loss: 1.1143\n",
            "Epoch 9/20\n",
            "\u001b[1m155/156\u001b[0m \u001b[32m━━━━━━━━━━━━━━━━━━━\u001b[0m\u001b[37m━\u001b[0m \u001b[1m0s\u001b[0m 893ms/step - accuracy: 0.7366 - loss: 1.0536✅ Total samples loaded: 9984\n",
            "\u001b[1m156/156\u001b[0m \u001b[32m━━━━━━━━━━━━━━━━━━━━\u001b[0m\u001b[37m\u001b[0m \u001b[1m0s\u001b[0m 893ms/step - accuracy: 0.7367 - loss: 1.0536✅ Total samples loaded: 8750\n",
            "\u001b[1m156/156\u001b[0m \u001b[32m━━━━━━━━━━━━━━━━━━━━\u001b[0m\u001b[37m\u001b[0m \u001b[1m260s\u001b[0m 2s/step - accuracy: 0.7367 - loss: 1.0535 - val_accuracy: 0.7150 - val_loss: 1.1137\n",
            "Epoch 10/20\n",
            "\u001b[1m155/156\u001b[0m \u001b[32m━━━━━━━━━━━━━━━━━━━\u001b[0m\u001b[37m━\u001b[0m \u001b[1m0s\u001b[0m 883ms/step - accuracy: 0.7378 - loss: 1.0473✅ Total samples loaded: 9984\n",
            "\u001b[1m156/156\u001b[0m \u001b[32m━━━━━━━━━━━━━━━━━━━━\u001b[0m\u001b[37m\u001b[0m \u001b[1m0s\u001b[0m 883ms/step - accuracy: 0.7379 - loss: 1.0473✅ Total samples loaded: 8750\n",
            "\u001b[1m156/156\u001b[0m \u001b[32m━━━━━━━━━━━━━━━━━━━━\u001b[0m\u001b[37m\u001b[0m \u001b[1m262s\u001b[0m 2s/step - accuracy: 0.7379 - loss: 1.0473 - val_accuracy: 0.7145 - val_loss: 1.1133\n",
            "Epoch 11/20\n",
            "\u001b[1m155/156\u001b[0m \u001b[32m━━━━━━━━━━━━━━━━━━━\u001b[0m\u001b[37m━\u001b[0m \u001b[1m0s\u001b[0m 885ms/step - accuracy: 0.7382 - loss: 1.0416✅ Total samples loaded: 9984\n",
            "\u001b[1m156/156\u001b[0m \u001b[32m━━━━━━━━━━━━━━━━━━━━\u001b[0m\u001b[37m\u001b[0m \u001b[1m0s\u001b[0m 885ms/step - accuracy: 0.7383 - loss: 1.0415✅ Total samples loaded: 8750\n",
            "\u001b[1m156/156\u001b[0m \u001b[32m━━━━━━━━━━━━━━━━━━━━\u001b[0m\u001b[37m\u001b[0m \u001b[1m262s\u001b[0m 2s/step - accuracy: 0.7383 - loss: 1.0415 - val_accuracy: 0.7139 - val_loss: 1.1130\n",
            "Epoch 12/20\n",
            "\u001b[1m155/156\u001b[0m \u001b[32m━━━━━━━━━━━━━━━━━━━\u001b[0m\u001b[37m━\u001b[0m \u001b[1m0s\u001b[0m 885ms/step - accuracy: 0.7400 - loss: 1.0359✅ Total samples loaded: 9984\n",
            "\u001b[1m156/156\u001b[0m \u001b[32m━━━━━━━━━━━━━━━━━━━━\u001b[0m\u001b[37m\u001b[0m \u001b[1m0s\u001b[0m 886ms/step - accuracy: 0.7400 - loss: 1.0359✅ Total samples loaded: 8750\n",
            "\u001b[1m156/156\u001b[0m \u001b[32m━━━━━━━━━━━━━━━━━━━━\u001b[0m\u001b[37m\u001b[0m \u001b[1m321s\u001b[0m 2s/step - accuracy: 0.7400 - loss: 1.0358 - val_accuracy: 0.7150 - val_loss: 1.1127\n",
            "Epoch 13/20\n",
            "\u001b[1m155/156\u001b[0m \u001b[32m━━━━━━━━━━━━━━━━━━━\u001b[0m\u001b[37m━\u001b[0m \u001b[1m0s\u001b[0m 886ms/step - accuracy: 0.7421 - loss: 1.0303✅ Total samples loaded: 9984\n",
            "\u001b[1m156/156\u001b[0m \u001b[32m━━━━━━━━━━━━━━━━━━━━\u001b[0m\u001b[37m\u001b[0m \u001b[1m0s\u001b[0m 885ms/step - accuracy: 0.7421 - loss: 1.0303✅ Total samples loaded: 8750\n",
            "\u001b[1m156/156\u001b[0m \u001b[32m━━━━━━━━━━━━━━━━━━━━\u001b[0m\u001b[37m\u001b[0m \u001b[1m262s\u001b[0m 2s/step - accuracy: 0.7421 - loss: 1.0303 - val_accuracy: 0.7147 - val_loss: 1.1132\n",
            "Epoch 14/20\n",
            "\u001b[1m155/156\u001b[0m \u001b[32m━━━━━━━━━━━━━━━━━━━\u001b[0m\u001b[37m━\u001b[0m \u001b[1m0s\u001b[0m 888ms/step - accuracy: 0.7432 - loss: 1.0253✅ Total samples loaded: 9984\n",
            "\u001b[1m156/156\u001b[0m \u001b[32m━━━━━━━━━━━━━━━━━━━━\u001b[0m\u001b[37m\u001b[0m \u001b[1m0s\u001b[0m 889ms/step - accuracy: 0.7433 - loss: 1.0253✅ Total samples loaded: 8750\n",
            "\u001b[1m156/156\u001b[0m \u001b[32m━━━━━━━━━━━━━━━━━━━━\u001b[0m\u001b[37m\u001b[0m \u001b[1m262s\u001b[0m 2s/step - accuracy: 0.7433 - loss: 1.0252 - val_accuracy: 0.7153 - val_loss: 1.1128\n",
            "Epoch 15/20\n",
            "\u001b[1m155/156\u001b[0m \u001b[32m━━━━━━━━━━━━━━━━━━━\u001b[0m\u001b[37m━\u001b[0m \u001b[1m0s\u001b[0m 883ms/step - accuracy: 0.7439 - loss: 1.0198✅ Total samples loaded: 9984\n",
            "\u001b[1m156/156\u001b[0m \u001b[32m━━━━━━━━━━━━━━━━━━━━\u001b[0m\u001b[37m\u001b[0m \u001b[1m0s\u001b[0m 882ms/step - accuracy: 0.7440 - loss: 1.0198✅ Total samples loaded: 8750\n",
            "\u001b[1m156/156\u001b[0m \u001b[32m━━━━━━━━━━━━━━━━━━━━\u001b[0m\u001b[37m\u001b[0m \u001b[1m258s\u001b[0m 2s/step - accuracy: 0.7440 - loss: 1.0197 - val_accuracy: 0.7153 - val_loss: 1.1130\n",
            "Epoch 16/20\n",
            "\u001b[1m155/156\u001b[0m \u001b[32m━━━━━━━━━━━━━━━━━━━\u001b[0m\u001b[37m━\u001b[0m \u001b[1m0s\u001b[0m 888ms/step - accuracy: 0.7447 - loss: 1.0151✅ Total samples loaded: 9984\n",
            "\u001b[1m156/156\u001b[0m \u001b[32m━━━━━━━━━━━━━━━━━━━━\u001b[0m\u001b[37m\u001b[0m \u001b[1m0s\u001b[0m 888ms/step - accuracy: 0.7447 - loss: 1.0150✅ Total samples loaded: 8750\n",
            "\u001b[1m156/156\u001b[0m \u001b[32m━━━━━━━━━━━━━━━━━━━━\u001b[0m\u001b[37m\u001b[0m \u001b[1m322s\u001b[0m 2s/step - accuracy: 0.7448 - loss: 1.0150 - val_accuracy: 0.7158 - val_loss: 1.1129\n",
            "Epoch 17/20\n",
            "\u001b[1m155/156\u001b[0m \u001b[32m━━━━━━━━━━━━━━━━━━━\u001b[0m\u001b[37m━\u001b[0m \u001b[1m0s\u001b[0m 880ms/step - accuracy: 0.7460 - loss: 1.0102✅ Total samples loaded: 9984\n",
            "\u001b[1m156/156\u001b[0m \u001b[32m━━━━━━━━━━━━━━━━━━━━\u001b[0m\u001b[37m\u001b[0m \u001b[1m0s\u001b[0m 880ms/step - accuracy: 0.7461 - loss: 1.0101✅ Total samples loaded: 8750\n",
            "\u001b[1m156/156\u001b[0m \u001b[32m━━━━━━━━━━━━━━━━━━━━\u001b[0m\u001b[37m\u001b[0m \u001b[1m261s\u001b[0m 2s/step - accuracy: 0.7461 - loss: 1.0101 - val_accuracy: 0.7155 - val_loss: 1.1131\n",
            "Epoch 18/20\n",
            "\u001b[1m155/156\u001b[0m \u001b[32m━━━━━━━━━━━━━━━━━━━\u001b[0m\u001b[37m━\u001b[0m \u001b[1m0s\u001b[0m 879ms/step - accuracy: 0.7473 - loss: 1.0054✅ Total samples loaded: 9984\n",
            "\u001b[1m156/156\u001b[0m \u001b[32m━━━━━━━━━━━━━━━━━━━━\u001b[0m\u001b[37m\u001b[0m \u001b[1m0s\u001b[0m 880ms/step - accuracy: 0.7473 - loss: 1.0054"
          ]
        }
      ]
    },
    {
      "cell_type": "code",
      "source": [
        "base_model.save('/content/drive/My Drive/dataset/MelNoteClassifierV6.h5')"
      ],
      "metadata": {
        "id": "xGkVb0zwyfcE",
        "colab": {
          "base_uri": "https://localhost:8080/"
        },
        "outputId": "71f23c01-e41f-4c7b-ae2d-997d288693c2"
      },
      "execution_count": null,
      "outputs": [
        {
          "output_type": "stream",
          "name": "stderr",
          "text": [
            "WARNING:absl:You are saving your model as an HDF5 file via `model.save()` or `keras.saving.save_model(model)`. This file format is considered legacy. We recommend using instead the native Keras format, e.g. `model.save('my_model.keras')` or `keras.saving.save_model(model, 'my_model.keras')`. \n"
          ]
        }
      ]
    }
  ],
  "metadata": {
    "kernelspec": {
      "display_name": "Python 3",
      "name": "python3"
    },
    "language_info": {
      "codemirror_mode": {
        "name": "ipython",
        "version": 3
      },
      "file_extension": ".py",
      "mimetype": "text/x-python",
      "name": "python",
      "nbconvert_exporter": "python",
      "pygments_lexer": "ipython3",
      "version": "3.10.10"
    },
    "colab": {
      "provenance": [],
      "gpuType": "L4",
      "include_colab_link": true
    },
    "accelerator": "GPU"
  },
  "nbformat": 4,
  "nbformat_minor": 0
}