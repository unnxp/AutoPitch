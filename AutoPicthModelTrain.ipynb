{
 "cells": [
  {
   "cell_type": "code",
   "execution_count": null,
   "metadata": {},
   "outputs": [],
   "source": [
    "import librosa\n",
    "import librosa.display\n",
    "import numpy as np\n",
    "import json\n",
    "import os\n",
    "import tensorflow as tf\n",
    "import matplotlib.pyplot as plt\n",
    "\n",
    "# โหลด Metadata\n",
    "with open(\"C:/Users/M S I/Desktop/Autopitch/dataset/nsynth-train/examples.json\", \"r\") as f:\n",
    "    metadata = json.load(f)\n",
    "\n",
    "# ฟังก์ชันโหลดเสียงและแปลงเป็น Mel-Spectrogram\n",
    "def load_audio(file_path):\n",
    "    y, sr = librosa.load(file_path, sr=16000)\n",
    "    mel_spec = librosa.feature.melspectrogram(y=y, sr=sr, n_mels=128)\n",
    "    mel_spec_db = librosa.power_to_db(mel_spec, ref=np.max)\n",
    "    \n",
    "    # Normalization\n",
    "    mel_spec_db = (mel_spec_db - np.min(mel_spec_db)) / (np.max(mel_spec_db) - np.min(mel_spec_db))\n",
    "    return mel_spec_db, sr\n",
    "\n",
    "# โหลดตัวอย่างเสียง\n",
    "file_path = \"C:/Users/M S I/Desktop/Autopitch/dataset/nsynth-train/audio/vocal_synthetic_015-095-075.wav\"\n",
    "mel_spec, sr = load_audio(file_path)\n",
    "\n",
    "# แสดง Mel-Spectrogram\n",
    "plt.figure(figsize=(10, 4))\n",
    "librosa.display.specshow(mel_spec, sr=sr, x_axis=\"time\", y_axis=\"mel\")\n",
    "plt.colorbar(label=\"dB\")\n",
    "plt.title(\"Mel Spectrogram\")\n",
    "plt.show()\n"
   ]
  },
  {
   "cell_type": "code",
   "execution_count": null,
   "metadata": {},
   "outputs": [],
   "source": [
    "# ฟังก์ชันสำหรับสร้าง dataset\n",
    "def data_generator():\n",
    "    for key in metadata.keys():\n",
    "        file_path = os.path.join(\"C:/Users/M S I/Desktop/Autopitch/dataset/nsynth-train/audio\", metadata[key][\"audio_path\"])\n",
    "        mel_spec, _ = load_audio(file_path)\n",
    "        pitch = metadata[key][\"pitch\"]\n",
    "        yield mel_spec, pitch\n",
    "\n",
    "# แปลงเป็น TensorFlow Dataset\n",
    "dataset = tf.data.Dataset.from_generator(\n",
    "    data_generator, \n",
    "    output_signature=(\n",
    "        tf.TensorSpec(shape=(128, None), dtype=tf.float32),\n",
    "        tf.TensorSpec(shape=(), dtype=tf.int32)\n",
    "    )\n",
    ")\n",
    "\n",
    "# แปลงให้เป็น Batch\n",
    "batch_size = 32\n",
    "dataset = dataset.shuffle(1000).batch(batch_size).prefetch(tf.data.AUTOTUNE)\n"
   ]
  },
  {
   "cell_type": "code",
   "execution_count": null,
   "metadata": {},
   "outputs": [],
   "source": [
    "from tensorflow import keras\n",
    "from keras import layers\n",
    "\n",
    "# กำหนด Input Shape (128, Time)\n",
    "input_shape = (128, None, 1)\n",
    "\n",
    "# สร้างโมเดล CNN\n",
    "model = keras.Sequential([\n",
    "    layers.Conv2D(32, (3,3), activation=\"relu\", padding=\"same\", input_shape=input_shape),\n",
    "    layers.MaxPooling2D((2,2)),\n",
    "    \n",
    "    layers.Conv2D(64, (3,3), activation=\"relu\", padding=\"same\"),\n",
    "    layers.MaxPooling2D((2,2)),\n",
    "\n",
    "    layers.Conv2D(128, (3,3), activation=\"relu\", padding=\"same\"),\n",
    "    layers.MaxPooling2D((2,2)),\n",
    "\n",
    "    layers.Flatten(),\n",
    "    layers.Dense(256, activation=\"relu\"),\n",
    "    layers.Dense(88, activation=\"softmax\")  # 88 keys (piano range)\n",
    "])\n",
    "\n",
    "# คอมไพล์โมเดล\n",
    "model.compile(optimizer=\"adam\", loss=\"sparse_categorical_crossentropy\", metrics=[\"accuracy\"])\n",
    "\n",
    "# แสดงโครงสร้างโมเดล\n",
    "model.summary()\n"
   ]
  },
  {
   "cell_type": "code",
   "execution_count": null,
   "metadata": {},
   "outputs": [],
   "source": [
    "# ฝึกโมเดลด้วย dataset ที่สร้างไว้\n",
    "model.fit(dataset, epochs=10)\n"
   ]
  },
  {
   "cell_type": "code",
   "execution_count": null,
   "metadata": {},
   "outputs": [],
   "source": [
    "# โหลดตัวอย่างเสียงใหม่\n",
    "test_file = \"C:/Users/M S I/Desktop/Autopitch/dataset/nsynth-train/audio/vocal_synthetic_020-080-060.wav\"\n",
    "test_mel, _ = load_audio(test_file)\n",
    "\n",
    "# แปลงเป็น Tensor\n",
    "test_mel = np.expand_dims(test_mel, axis=(0, -1))  # Reshape เป็น (1, 128, Time, 1)\n",
    "\n",
    "# ทำนายโน้ต\n",
    "prediction = model.predict(test_mel)\n",
    "predicted_pitch = np.argmax(prediction)\n",
    "\n",
    "print(f\"Predicted Pitch: {predicted_pitch}\")\n"
   ]
  }
 ],
 "metadata": {
  "kernelspec": {
   "display_name": "Python 3",
   "language": "python",
   "name": "python3"
  },
  "language_info": {
   "name": "python",
   "version": "3.10.10"
  }
 },
 "nbformat": 4,
 "nbformat_minor": 2
}
